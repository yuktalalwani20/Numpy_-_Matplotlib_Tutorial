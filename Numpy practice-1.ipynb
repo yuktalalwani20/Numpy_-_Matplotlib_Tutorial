{
 "cells": [
  {
   "cell_type": "code",
   "execution_count": 1,
   "metadata": {},
   "outputs": [
    {
     "name": "stdout",
     "output_type": "stream",
     "text": [
      "<built-in function array>\n"
     ]
    }
   ],
   "source": [
    "import numpy as np\n",
    "a=np.array\n",
    "print(a)"
   ]
  },
  {
   "cell_type": "code",
   "execution_count": 2,
   "metadata": {},
   "outputs": [
    {
     "ename": "NameError",
     "evalue": "name 'numpy' is not defined",
     "output_type": "error",
     "traceback": [
      "\u001b[1;31m---------------------------------------------------------------------------\u001b[0m",
      "\u001b[1;31mNameError\u001b[0m                                 Traceback (most recent call last)",
      "\u001b[1;32m<ipython-input-2-f947cd65c4fb>\u001b[0m in \u001b[0;36m<module>\u001b[1;34m\u001b[0m\n\u001b[1;32m----> 1\u001b[1;33m \u001b[0ma\u001b[0m\u001b[1;33m=\u001b[0m\u001b[0mnumpy\u001b[0m\u001b[1;33m.\u001b[0m\u001b[0marray\u001b[0m\u001b[1;33m(\u001b[0m\u001b[1;33m[\u001b[0m\u001b[1;36m1\u001b[0m\u001b[1;33m,\u001b[0m\u001b[1;36m2\u001b[0m\u001b[1;33m,\u001b[0m\u001b[1;36m3\u001b[0m\u001b[1;33m]\u001b[0m\u001b[1;33m)\u001b[0m\u001b[1;33m\u001b[0m\u001b[1;33m\u001b[0m\u001b[0m\n\u001b[0m\u001b[0;32m      2\u001b[0m \u001b[0mprint\u001b[0m\u001b[1;33m(\u001b[0m\u001b[0ma\u001b[0m\u001b[1;33m)\u001b[0m\u001b[1;33m\u001b[0m\u001b[1;33m\u001b[0m\u001b[0m\n",
      "\u001b[1;31mNameError\u001b[0m: name 'numpy' is not defined"
     ]
    }
   ],
   "source": [
    "a=numpy.array([1,2,3])\n",
    "print(a)"
   ]
  },
  {
   "cell_type": "code",
   "execution_count": 3,
   "metadata": {},
   "outputs": [
    {
     "name": "stdout",
     "output_type": "stream",
     "text": [
      "[1 2 3]\n"
     ]
    }
   ],
   "source": [
    "import numpy\n",
    "a=numpy.array([1,2,3])\n",
    "print(a)"
   ]
  },
  {
   "cell_type": "code",
   "execution_count": 4,
   "metadata": {},
   "outputs": [
    {
     "name": "stdout",
     "output_type": "stream",
     "text": [
      "<class 'numpy.ndarray'>\n"
     ]
    }
   ],
   "source": [
    "print(type(a))"
   ]
  },
  {
   "cell_type": "code",
   "execution_count": 5,
   "metadata": {},
   "outputs": [
    {
     "ename": "TypeError",
     "evalue": "data type not understood",
     "output_type": "error",
     "traceback": [
      "\u001b[1;31m---------------------------------------------------------------------------\u001b[0m",
      "\u001b[1;31mTypeError\u001b[0m                                 Traceback (most recent call last)",
      "\u001b[1;32m<ipython-input-5-537b7598932b>\u001b[0m in \u001b[0;36m<module>\u001b[1;34m\u001b[0m\n\u001b[0;32m      1\u001b[0m \u001b[1;32mimport\u001b[0m \u001b[0mnumpy\u001b[0m\u001b[1;33m\u001b[0m\u001b[1;33m\u001b[0m\u001b[0m\n\u001b[1;32m----> 2\u001b[1;33m \u001b[0ma\u001b[0m\u001b[1;33m=\u001b[0m\u001b[0mnumpy\u001b[0m\u001b[1;33m.\u001b[0m\u001b[0marray\u001b[0m\u001b[1;33m(\u001b[0m\u001b[1;33m[\u001b[0m\u001b[1;36m1\u001b[0m\u001b[1;33m,\u001b[0m\u001b[1;36m2\u001b[0m\u001b[1;33m,\u001b[0m\u001b[1;36m3\u001b[0m\u001b[1;33m]\u001b[0m\u001b[1;33m,\u001b[0m\u001b[1;33m[\u001b[0m\u001b[1;36m4\u001b[0m\u001b[1;33m,\u001b[0m\u001b[1;36m5\u001b[0m\u001b[1;33m,\u001b[0m\u001b[1;36m6\u001b[0m\u001b[1;33m]\u001b[0m\u001b[1;33m)\u001b[0m\u001b[1;33m\u001b[0m\u001b[1;33m\u001b[0m\u001b[0m\n\u001b[0m\u001b[0;32m      3\u001b[0m \u001b[0mprint\u001b[0m\u001b[1;33m(\u001b[0m\u001b[0ma\u001b[0m\u001b[1;33m)\u001b[0m\u001b[1;33m\u001b[0m\u001b[1;33m\u001b[0m\u001b[0m\n",
      "\u001b[1;31mTypeError\u001b[0m: data type not understood"
     ]
    }
   ],
   "source": [
    "import numpy\n",
    "a=numpy.array([1,2,3],[4,5,6])\n",
    "print(a)"
   ]
  },
  {
   "cell_type": "code",
   "execution_count": 6,
   "metadata": {},
   "outputs": [
    {
     "name": "stdout",
     "output_type": "stream",
     "text": [
      "[[1 2 3]\n",
      " [4 5 6]]\n"
     ]
    }
   ],
   "source": [
    "a=numpy.array([[1,2,3],[4,5,6]])\n",
    "print(a)"
   ]
  },
  {
   "cell_type": "code",
   "execution_count": 1,
   "metadata": {},
   "outputs": [
    {
     "data": {
      "text/plain": [
       "array([1., 2., 3.])"
      ]
     },
     "execution_count": 1,
     "metadata": {},
     "output_type": "execute_result"
    }
   ],
   "source": [
    "import numpy as np\n",
    "arr=np.array([1,2.,3.])\n",
    "arr"
   ]
  },
  {
   "cell_type": "code",
   "execution_count": 4,
   "metadata": {},
   "outputs": [
    {
     "data": {
      "text/plain": [
       "array([[1., 2., 3.],\n",
       "       [4., 5., 7.]])"
      ]
     },
     "execution_count": 4,
     "metadata": {},
     "output_type": "execute_result"
    }
   ],
   "source": [
    "arr=np.array([[1,2.,3.],[4.,5.,7]])\n",
    "arr"
   ]
  },
  {
   "cell_type": "code",
   "execution_count": 7,
   "metadata": {},
   "outputs": [
    {
     "name": "stdout",
     "output_type": "stream",
     "text": [
      "[1.+0.j 3.+0.j 5.+0.j 7.+0.j]\n"
     ]
    }
   ],
   "source": [
    "a=numpy.array([1,3,5,7], dtype=complex)\n",
    "print(a)"
   ]
  },
  {
   "cell_type": "code",
   "execution_count": 7,
   "metadata": {},
   "outputs": [
    {
     "data": {
      "text/plain": [
       "array([12.+0.j, 45.+0.j,  3.+0.j])"
      ]
     },
     "execution_count": 7,
     "metadata": {},
     "output_type": "execute_result"
    }
   ],
   "source": [
    "arr=np.array([12,45.,3.],dtype=complex)\n",
    "arr"
   ]
  },
  {
   "cell_type": "code",
   "execution_count": 8,
   "metadata": {},
   "outputs": [
    {
     "name": "stdout",
     "output_type": "stream",
     "text": [
      "2\n"
     ]
    }
   ],
   "source": [
    "arr=numpy.array([[1,2,3,4],[4,5,6,7],[9,10,11,23]])\n",
    "print(arr.ndim)"
   ]
  },
  {
   "cell_type": "code",
   "execution_count": 10,
   "metadata": {},
   "outputs": [
    {
     "name": "stdout",
     "output_type": "stream",
     "text": [
      "[[ 1  2  3  4]\n",
      " [ 4  5  6  7]\n",
      " [ 9 10 11 23]]\n"
     ]
    }
   ],
   "source": [
    "print(arr)"
   ]
  },
  {
   "cell_type": "code",
   "execution_count": 6,
   "metadata": {},
   "outputs": [
    {
     "data": {
      "text/plain": [
       "array([[1., 2., 3.]])"
      ]
     },
     "execution_count": 6,
     "metadata": {},
     "output_type": "execute_result"
    }
   ],
   "source": [
    "arr=np.array([1,2.,3.],ndmin=2)\n",
    "arr"
   ]
  },
  {
   "cell_type": "code",
   "execution_count": 1,
   "metadata": {},
   "outputs": [
    {
     "name": "stdout",
     "output_type": "stream",
     "text": [
      "Each item contains 4 bytes\n"
     ]
    }
   ],
   "source": [
    "#finding the size of each item in the array\n",
    "import numpy as np\n",
    "a=np.array([1,2,3])\n",
    "print(\"Each item contains\", a.itemsize, \"bytes\")"
   ]
  },
  {
   "cell_type": "code",
   "execution_count": 2,
   "metadata": {},
   "outputs": [
    {
     "name": "stdout",
     "output_type": "stream",
     "text": [
      "Each item contains 4 bytes\n"
     ]
    }
   ],
   "source": [
    "a=np.array([[1,2,3]])\n",
    "print(\"Each item contains\", a.itemsize, \"bytes\")"
   ]
  },
  {
   "cell_type": "code",
   "execution_count": 3,
   "metadata": {},
   "outputs": [
    {
     "name": "stdout",
     "output_type": "stream",
     "text": [
      "Each item is of the type int32\n"
     ]
    }
   ],
   "source": [
    "#finding the data type of each array item\n",
    "import numpy as np\n",
    "a=np.array([1,2,3])\n",
    "print(\"Each item is of the type\", a.dtype)"
   ]
  },
  {
   "cell_type": "code",
   "execution_count": 4,
   "metadata": {},
   "outputs": [
    {
     "name": "stdout",
     "output_type": "stream",
     "text": [
      "Array Size: 7\n",
      "Array Shape: (7,)\n"
     ]
    }
   ],
   "source": [
    "#finding the shape and size of the array\n",
    "import numpy as np\n",
    "a=np.array([1,2,3,4,5,6,7])\n",
    "print(\"Array Size:\",a.size)\n",
    "print(\"Array Shape:\",a.shape)"
   ]
  },
  {
   "cell_type": "markdown",
   "metadata": {},
   "source": [
    "###### Reshaping the array objects"
   ]
  },
  {
   "cell_type": "code",
   "execution_count": 5,
   "metadata": {},
   "outputs": [
    {
     "name": "stdout",
     "output_type": "stream",
     "text": [
      "printing the original array..\n",
      "[[1 2]\n",
      " [3 4]\n",
      " [5 6]]\n",
      "printing the reshaped array..\n",
      "[[1 2 3]\n",
      " [4 5 6]]\n"
     ]
    }
   ],
   "source": [
    "#Reshaping the array objects\n",
    "import numpy as np\n",
    "a=np.array([[1,2],[3,4],[5,6]])\n",
    "print(\"printing the original array..\")\n",
    "print(a)\n",
    "print(\"printing the reshaped array..\")\n",
    "a=a.reshape(2,3)\n",
    "print(a)"
   ]
  },
  {
   "cell_type": "code",
   "execution_count": 22,
   "metadata": {},
   "outputs": [
    {
     "data": {
      "text/plain": [
       "(array([ 0,  1,  2,  3,  4,  5,  6,  7,  8,  9, 10, 11]),\n",
       " array([[ 0,  1,  2],\n",
       "        [ 3,  4,  5],\n",
       "        [ 6,  7,  8],\n",
       "        [ 9, 10, 11]]))"
      ]
     },
     "execution_count": 22,
     "metadata": {},
     "output_type": "execute_result"
    }
   ],
   "source": [
    "#C-like index ordering\n",
    "x=np.arange(12)\n",
    "y=np.reshape(x,(4,3))\n",
    "x,y"
   ]
  },
  {
   "cell_type": "code",
   "execution_count": 23,
   "metadata": {},
   "outputs": [
    {
     "data": {
      "text/plain": [
       "(array([ 0,  1,  2,  3,  4,  5,  6,  7,  8,  9, 10, 11]),\n",
       " array([[ 0,  1,  2,  3],\n",
       "        [ 4,  5,  6,  7],\n",
       "        [ 8,  9, 10, 11]]))"
      ]
     },
     "execution_count": 23,
     "metadata": {},
     "output_type": "execute_result"
    }
   ],
   "source": [
    "#Equivalent to C ravel then C reshape \n",
    "x=np.arange(12)\n",
    "y=np.reshape(np.ravel(x),(3,4)) #Know more about ravel() function----google\n",
    "x,y"
   ]
  },
  {
   "cell_type": "code",
   "execution_count": 27,
   "metadata": {},
   "outputs": [
    {
     "data": {
      "text/plain": [
       "(array([ 0,  1,  2,  3,  4,  5,  6,  7,  8,  9, 10, 11]),\n",
       " array([[ 0,  4,  8],\n",
       "        [ 1,  5,  9],\n",
       "        [ 2,  6, 10],\n",
       "        [ 3,  7, 11]]))"
      ]
     },
     "execution_count": 27,
     "metadata": {},
     "output_type": "execute_result"
    }
   ],
   "source": [
    "#Fortran-like index ordering\n",
    "x=np.arange(12)\n",
    "y=np.reshape(x,(4,3),order='F') \n",
    "x,y"
   ]
  },
  {
   "cell_type": "code",
   "execution_count": 25,
   "metadata": {},
   "outputs": [
    {
     "data": {
      "text/plain": [
       "(array([ 0,  1,  2,  3,  4,  5,  6,  7,  8,  9, 10, 11]),\n",
       " array([[ 0,  4,  8],\n",
       "        [ 1,  5,  9],\n",
       "        [ 2,  6, 10],\n",
       "        [ 3,  7, 11]]))"
      ]
     },
     "execution_count": 25,
     "metadata": {},
     "output_type": "execute_result"
    }
   ],
   "source": [
    "#Fortran-like index ordering\n",
    "x=np.arange(12)\n",
    "y=np.reshape(np.ravel(x, order='F'),(4,3), order='F') #Know more about ravel() function----google\n",
    "x,y"
   ]
  },
  {
   "cell_type": "code",
   "execution_count": 26,
   "metadata": {},
   "outputs": [
    {
     "data": {
      "text/plain": [
       "(array([ 0,  1,  2,  3,  4,  5,  6,  7,  8,  9, 10, 11]),\n",
       " array([[ 0,  1,  2,  3,  4,  5],\n",
       "        [ 6,  7,  8,  9, 10, 11]]))"
      ]
     },
     "execution_count": 26,
     "metadata": {},
     "output_type": "execute_result"
    }
   ],
   "source": [
    "#The unspecified value is inferred to be 2\n",
    "x=np.arange(12)\n",
    "y=np.reshape(x,(2,-1)) #Doubt--??\n",
    "x,y"
   ]
  },
  {
   "cell_type": "raw",
   "metadata": {},
   "source": [
    "---------------------------end of np.reshape()"
   ]
  },
  {
   "cell_type": "code",
   "execution_count": 6,
   "metadata": {},
   "outputs": [
    {
     "name": "stdout",
     "output_type": "stream",
     "text": [
      "2\n",
      "5\n"
     ]
    }
   ],
   "source": [
    "#Slicing in the Array\n",
    "a=np.array([[1,2],[3,4],[5,6]])\n",
    "print(a[0,1])\n",
    "print(a[2,0])"
   ]
  },
  {
   "cell_type": "code",
   "execution_count": 8,
   "metadata": {},
   "outputs": [
    {
     "name": "stdout",
     "output_type": "stream",
     "text": [
      "[ 5.          6.11111111  7.22222222  8.33333333  9.44444444 10.55555556\n",
      " 11.66666667 12.77777778 13.88888889 15.        ]\n"
     ]
    }
   ],
   "source": [
    "#Linspace in the Array\n",
    "a=np.linspace(5,15,10)#prints 10 values which are evenly spaced over the given interval 5-15\n",
    "print(a)"
   ]
  },
  {
   "cell_type": "code",
   "execution_count": 9,
   "metadata": {
    "scrolled": true
   },
   "outputs": [
    {
     "name": "stdout",
     "output_type": "stream",
     "text": [
      "The array: [ 1  2  3 10 15  4]\n",
      "The maximum element: 15\n",
      "The minimum element: 1\n",
      "The sum of the elements: 35\n"
     ]
    }
   ],
   "source": [
    "#Finding the Maximum, Minimum, and Sum of the Array elements\n",
    "a=np.array([1,2,3,10,15,4])\n",
    "print(\"The array:\",a)\n",
    "print(\"The maximum element:\",a.max())\n",
    "print(\"The minimum element:\",a.min())\n",
    "print(\"The sum of the elements:\",a.sum())"
   ]
  },
  {
   "cell_type": "code",
   "execution_count": 28,
   "metadata": {},
   "outputs": [
    {
     "data": {
      "text/plain": [
       "0.9"
      ]
     },
     "execution_count": 28,
     "metadata": {},
     "output_type": "execute_result"
    }
   ],
   "source": [
    "#numpy.sum()\n",
    "a=np.array([0.4,0.5])\n",
    "b=np.sum(a)\n",
    "b"
   ]
  },
  {
   "cell_type": "code",
   "execution_count": 29,
   "metadata": {},
   "outputs": [
    {
     "data": {
      "text/plain": [
       "6"
      ]
     },
     "execution_count": 29,
     "metadata": {},
     "output_type": "execute_result"
    }
   ],
   "source": [
    "a=np.array([0.4,0.5,0.9,6.1])\n",
    "x=np.sum(a,dtype=np.int32)\n",
    "x"
   ]
  },
  {
   "cell_type": "code",
   "execution_count": 30,
   "metadata": {},
   "outputs": [
    {
     "data": {
      "text/plain": [
       "13"
      ]
     },
     "execution_count": 30,
     "metadata": {},
     "output_type": "execute_result"
    }
   ],
   "source": [
    "a=np.array([[1,4],[3,5]])\n",
    "b=np.sum(a)\n",
    "b"
   ]
  },
  {
   "cell_type": "code",
   "execution_count": 31,
   "metadata": {},
   "outputs": [
    {
     "data": {
      "text/plain": [
       "array([4, 9])"
      ]
     },
     "execution_count": 31,
     "metadata": {},
     "output_type": "execute_result"
    }
   ],
   "source": [
    "a=np.array([[1,4],[3,5]])\n",
    "b=np.sum(a,axis=0)\n",
    "b"
   ]
  },
  {
   "cell_type": "code",
   "execution_count": 32,
   "metadata": {},
   "outputs": [
    {
     "data": {
      "text/plain": [
       "array([5, 8])"
      ]
     },
     "execution_count": 32,
     "metadata": {},
     "output_type": "execute_result"
    }
   ],
   "source": [
    "a=np.array([[1,4],[3,5]])\n",
    "b=np.sum(a,axis=1)\n",
    "b"
   ]
  },
  {
   "cell_type": "code",
   "execution_count": 33,
   "metadata": {},
   "outputs": [
    {
     "data": {
      "text/plain": [
       "23"
      ]
     },
     "execution_count": 33,
     "metadata": {},
     "output_type": "execute_result"
    }
   ],
   "source": [
    "b=np.sum([15],initial=8)\n",
    "b"
   ]
  },
  {
   "cell_type": "code",
   "execution_count": 10,
   "metadata": {},
   "outputs": [
    {
     "name": "stdout",
     "output_type": "stream",
     "text": [
      "The array: [[ 1  2 30]\n",
      " [10 15  4]]\n",
      "The maximum elements of columns: [10 15 30]\n",
      "The minimum elements of rows: [1 4]\n",
      "The sum of all rows: [33 29]\n"
     ]
    }
   ],
   "source": [
    "#Numpy Array Axis ----- Very V. V. IMPortant Topic\n",
    "a=np.array([[1,2,30],[10,15,4]])\n",
    "print(\"The array:\",a)\n",
    "print(\"The maximum elements of columns:\",a.max(axis=0))\n",
    "print(\"The minimum elements of rows:\",a.min(axis=1))\n",
    "print(\"The sum of all rows:\",a.sum(axis=1))"
   ]
  },
  {
   "cell_type": "code",
   "execution_count": 11,
   "metadata": {},
   "outputs": [
    {
     "name": "stdout",
     "output_type": "stream",
     "text": [
      "[[1.         1.41421356 5.47722558]\n",
      " [3.16227766 3.87298335 2.        ]]\n",
      "10.044346115546242\n"
     ]
    }
   ],
   "source": [
    "#Finding square root and standard deviation\n",
    "a=np.array([[1,2,30],[10,15,4]])\n",
    "print(np.sqrt(a))\n",
    "print(np.std(a))"
   ]
  },
  {
   "cell_type": "code",
   "execution_count": 12,
   "metadata": {},
   "outputs": [
    {
     "name": "stdout",
     "output_type": "stream",
     "text": [
      "Sum of array a and b\n",
      " [[ 2  4 33]\n",
      " [22 34 33]]\n",
      "Product of array a and b\n",
      " [[  1   4  90]\n",
      " [120 285 116]]\n",
      "Division of array a and b\n",
      " [[ 1.          1.         10.        ]\n",
      " [ 0.83333333  0.78947368  0.13793103]]\n"
     ]
    }
   ],
   "source": [
    "#Arithmetic operations on the array\n",
    "a=np.array([[1,2,30],[10,15,4]])\n",
    "b=np.array([[1,2,3],[12,19,29]])\n",
    "print(\"Sum of array a and b\\n\",a+b)\n",
    "print(\"Product of array a and b\\n\",a*b)\n",
    "print(\"Division of array a and b\\n\",a/b)"
   ]
  },
  {
   "cell_type": "code",
   "execution_count": 14,
   "metadata": {},
   "outputs": [
    {
     "name": "stdout",
     "output_type": "stream",
     "text": [
      "Array vertically concatenated\n",
      " [[ 1  2 30]\n",
      " [10 15  4]\n",
      " [ 1  2  3]\n",
      " [12 19 29]]\n",
      "Array horizontally concatenated\n",
      " [[ 1  2 30  1  2  3]\n",
      " [10 15  4 12 19 29]]\n"
     ]
    }
   ],
   "source": [
    "#Array Concatenation\n",
    "a=np.array([[1,2,30],[10,15,4]])\n",
    "b=np.array([[1,2,3],[12,19,29]])\n",
    "print(\"Array vertically concatenated\\n\",np.vstack((a,b)))#np.vstack takes only 1 argument that's why (a,b) is written as 1 argument\n",
    "print(\"Array horizontally concatenated\\n\",np.hstack((a,b)))#np.hstack takes only 1 argument that's why (a,b) is written as 1 argument"
   ]
  },
  {
   "cell_type": "code",
   "execution_count": 9,
   "metadata": {},
   "outputs": [
    {
     "data": {
      "text/plain": [
       "array([[ 1,  2],\n",
       "       [ 3,  4],\n",
       "       [12, 30]])"
      ]
     },
     "execution_count": 9,
     "metadata": {},
     "output_type": "execute_result"
    }
   ],
   "source": [
    "import numpy as np\n",
    "x=np.array([[1,2],[3,4]])\n",
    "y=np.array([[12,30]])\n",
    "z=np.concatenate((x,y))\n",
    "z"
   ]
  },
  {
   "cell_type": "code",
   "execution_count": 10,
   "metadata": {},
   "outputs": [
    {
     "data": {
      "text/plain": [
       "array([[ 1,  2],\n",
       "       [ 3,  4],\n",
       "       [12, 30]])"
      ]
     },
     "execution_count": 10,
     "metadata": {},
     "output_type": "execute_result"
    }
   ],
   "source": [
    "x=np.array([[1,2],[3,4]])\n",
    "y=np.array([[12,30]])\n",
    "z=np.concatenate((x,y),axis=0)\n",
    "z"
   ]
  },
  {
   "cell_type": "code",
   "execution_count": 11,
   "metadata": {},
   "outputs": [
    {
     "data": {
      "text/plain": [
       "array([[ 1,  2, 12],\n",
       "       [ 3,  4, 30]])"
      ]
     },
     "execution_count": 11,
     "metadata": {},
     "output_type": "execute_result"
    }
   ],
   "source": [
    "x=np.array([[1,2],[3,4]])\n",
    "y=np.array([[12,30]])\n",
    "z=np.concatenate((x,y.T),axis=1) # '.T' is used to change the rows into columns and columns into rows\n",
    "z"
   ]
  },
  {
   "cell_type": "code",
   "execution_count": 12,
   "metadata": {},
   "outputs": [
    {
     "data": {
      "text/plain": [
       "array([ 1,  2,  3,  4, 12, 30])"
      ]
     },
     "execution_count": 12,
     "metadata": {},
     "output_type": "execute_result"
    }
   ],
   "source": [
    "x=np.array([[1,2],[3,4]])\n",
    "y=np.array([[12,30]])\n",
    "z=np.concatenate((x,y),axis=None)\n",
    "z"
   ]
  },
  {
   "cell_type": "code",
   "execution_count": 20,
   "metadata": {},
   "outputs": [
    {
     "data": {
      "text/plain": [
       "(masked_array(data=[0, --, 2],\n",
       "              mask=[False,  True, False],\n",
       "        fill_value=999999),\n",
       " array([3, 4, 5]),\n",
       " masked_array(data=[0, 1, 2, 3, 4, 5],\n",
       "              mask=False,\n",
       "        fill_value=999999),\n",
       " masked_array(data=[0, --, 2, 3, 4, 5],\n",
       "              mask=[False,  True, False, False, False, False],\n",
       "        fill_value=999999))"
      ]
     },
     "execution_count": 20,
     "metadata": {},
     "output_type": "execute_result"
    }
   ],
   "source": [
    "x=np.ma.arange(3) #Know more about Masking-----KNow it(google)\n",
    "y=np.arange(3,6)\n",
    "x[1]=np.ma.masked\n",
    "z1=np.concatenate([x,y])\n",
    "z2=np.ma.concatenate([x,y])\n",
    "x,y,z1,z2 #In last line only all results should be written together not on 1 after other in different lines*"
   ]
  },
  {
   "cell_type": "code",
   "execution_count": 15,
   "metadata": {},
   "outputs": [
    {
     "name": "stdout",
     "output_type": "stream",
     "text": [
      "int32\n"
     ]
    }
   ],
   "source": [
    "#Numpy Datatypes\n",
    "import numpy as np\n",
    "d=np.dtype(np.int32)\n",
    "print(d)"
   ]
  },
  {
   "cell_type": "code",
   "execution_count": 18,
   "metadata": {},
   "outputs": [
    {
     "ename": "NameError",
     "evalue": "name 'i4' is not defined",
     "output_type": "error",
     "traceback": [
      "\u001b[1;31m---------------------------------------------------------------------------\u001b[0m",
      "\u001b[1;31mNameError\u001b[0m                                 Traceback (most recent call last)",
      "\u001b[1;32m<ipython-input-18-71d36b2d923d>\u001b[0m in \u001b[0;36m<module>\u001b[1;34m\u001b[0m\n\u001b[1;32m----> 1\u001b[1;33m \u001b[0md\u001b[0m\u001b[1;33m=\u001b[0m\u001b[0mnp\u001b[0m\u001b[1;33m.\u001b[0m\u001b[0mint32\u001b[0m\u001b[1;33m(\u001b[0m\u001b[0mi4\u001b[0m\u001b[1;33m)\u001b[0m\u001b[1;33m\u001b[0m\u001b[1;33m\u001b[0m\u001b[0m\n\u001b[0m\u001b[0;32m      2\u001b[0m \u001b[0mprint\u001b[0m\u001b[1;33m(\u001b[0m\u001b[0md\u001b[0m\u001b[1;33m)\u001b[0m\u001b[1;33m\u001b[0m\u001b[1;33m\u001b[0m\u001b[0m\n",
      "\u001b[1;31mNameError\u001b[0m: name 'i4' is not defined"
     ]
    }
   ],
   "source": [
    "d=np.int32(i4) #Doubt\n",
    "print(d)"
   ]
  },
  {
   "cell_type": "code",
   "execution_count": 19,
   "metadata": {},
   "outputs": [
    {
     "name": "stdout",
     "output_type": "stream",
     "text": [
      "[('salary', '<f8')]\n"
     ]
    }
   ],
   "source": [
    "#Creating a Structured data type\n",
    "d=np.dtype([('salary',np.float)])\n",
    "print(d)"
   ]
  },
  {
   "cell_type": "code",
   "execution_count": 22,
   "metadata": {},
   "outputs": [
    {
     "name": "stdout",
     "output_type": "stream",
     "text": [
      "[10000.12 20000.5 ]\n"
     ]
    }
   ],
   "source": [
    "d=np.dtype([('salary',np.float)])\n",
    "arr=np.array([(10000.12,),(20000.50,)],dtype=d)\n",
    "# OR #arr=np.array([10000.12,20000.50],dtype=d)\n",
    "print(arr['salary'])# V. V. V. IMPortant"
   ]
  },
  {
   "cell_type": "raw",
   "metadata": {},
   "source": [
    "\n",
    "\n",
    "# Numpy Array Creation"
   ]
  },
  {
   "cell_type": "code",
   "execution_count": 1,
   "metadata": {},
   "outputs": [
    {
     "name": "stdout",
     "output_type": "stream",
     "text": [
      "[[-567934946       2046]\n",
      " [-567922080       2046]\n",
      " [   5439567         69]]\n"
     ]
    }
   ],
   "source": [
    "#1.numpy.empty\n",
    "import numpy as np\n",
    "arr=np.empty((3,2), dtype=int)\n",
    "print(arr) #It creates random values in an array, How ??? #Doubt"
   ]
  },
  {
   "cell_type": "code",
   "execution_count": 2,
   "metadata": {},
   "outputs": [
    {
     "name": "stdout",
     "output_type": "stream",
     "text": [
      "[[0 0]\n",
      " [0 0]\n",
      " [0 0]]\n"
     ]
    }
   ],
   "source": [
    "#2.numpy.Zeros\n",
    "arr=np.zeros((3,2), dtype=int)\n",
    "print(arr)"
   ]
  },
  {
   "cell_type": "code",
   "execution_count": 34,
   "metadata": {},
   "outputs": [
    {
     "data": {
      "text/plain": [
       "array([0., 0., 0., 0., 0., 0.])"
      ]
     },
     "execution_count": 34,
     "metadata": {},
     "output_type": "execute_result"
    }
   ],
   "source": [
    "#numpy.zeros() without dtype and order\n",
    "a=np.zeros(6)\n",
    "a"
   ]
  },
  {
   "cell_type": "code",
   "execution_count": 35,
   "metadata": {},
   "outputs": [
    {
     "data": {
      "text/plain": [
       "array([0, 0, 0, 0, 0, 0])"
      ]
     },
     "execution_count": 35,
     "metadata": {},
     "output_type": "execute_result"
    }
   ],
   "source": [
    "#numpy.zeros() without order\n",
    "a=np.zeros((6,),dtype=int)\n",
    "a"
   ]
  },
  {
   "cell_type": "code",
   "execution_count": 36,
   "metadata": {},
   "outputs": [
    {
     "data": {
      "text/plain": [
       "array([[0., 0.],\n",
       "       [0., 0.],\n",
       "       [0., 0.],\n",
       "       [0., 0.],\n",
       "       [0., 0.],\n",
       "       [0., 0.]])"
      ]
     },
     "execution_count": 36,
     "metadata": {},
     "output_type": "execute_result"
    }
   ],
   "source": [
    "#numpy.zeros() with shape\n",
    "a=np.zeros((6,2))\n",
    "a"
   ]
  },
  {
   "cell_type": "code",
   "execution_count": 37,
   "metadata": {},
   "outputs": [
    {
     "data": {
      "text/plain": [
       "array([[0., 0.],\n",
       "       [0., 0.],\n",
       "       [0., 0.]])"
      ]
     },
     "execution_count": 37,
     "metadata": {},
     "output_type": "execute_result"
    }
   ],
   "source": [
    "s1=(3,2)\n",
    "a=np.zeros(s1)\n",
    "a"
   ]
  },
  {
   "cell_type": "code",
   "execution_count": 38,
   "metadata": {},
   "outputs": [
    {
     "data": {
      "text/plain": [
       "array([(0, 0), (0, 0), (0, 0)], dtype=[('x', '<i4'), ('y', '<i4')])"
      ]
     },
     "execution_count": 38,
     "metadata": {},
     "output_type": "execute_result"
    }
   ],
   "source": [
    "#numpy.zeros() with custom dtype\n",
    "a=np.zeros((3,), dtype=[('x','i4'),('y','i4')])\n",
    "a"
   ]
  },
  {
   "cell_type": "code",
   "execution_count": 3,
   "metadata": {},
   "outputs": [
    {
     "name": "stdout",
     "output_type": "stream",
     "text": [
      "[[1 1]\n",
      " [1 1]\n",
      " [1 1]]\n"
     ]
    }
   ],
   "source": [
    "#3.numpy.ones\n",
    "arr=np.ones((3,2), dtype=int)\n",
    "print(arr)"
   ]
  },
  {
   "cell_type": "raw",
   "metadata": {},
   "source": [
    "\n",
    "\n",
    "# Numpy array from Existing Data"
   ]
  },
  {
   "cell_type": "code",
   "execution_count": 4,
   "metadata": {},
   "outputs": [
    {
     "name": "stdout",
     "output_type": "stream",
     "text": [
      "<class 'numpy.ndarray'>\n",
      "[1 2 3 4 5 6 7]\n"
     ]
    }
   ],
   "source": [
    "#1.numpy.asarray\n",
    "   \n",
    "#Creating numpy array using the List\n",
    "import numpy as np\n",
    "l=[1,2,3,4,5,6,7]\n",
    "a=np.asarray(l)\n",
    "print(type(a))\n",
    "print(a)"
   ]
  },
  {
   "cell_type": "code",
   "execution_count": 6,
   "metadata": {},
   "outputs": [
    {
     "name": "stdout",
     "output_type": "stream",
     "text": [
      "<class 'numpy.ndarray'>\n",
      "[1 2 3 4 5 6 7]\n"
     ]
    }
   ],
   "source": [
    "#Creating a numpy array using Tuple\n",
    "l=(1,2,3,4,5,6,7)\n",
    "a=np.asarray(l); #Doubt in this ';' Syntax\n",
    "print(type(a))\n",
    "print(a)"
   ]
  },
  {
   "cell_type": "code",
   "execution_count": 2,
   "metadata": {},
   "outputs": [
    {
     "name": "stdout",
     "output_type": "stream",
     "text": [
      "<class 'numpy.ndarray'>\n",
      "[list([1, 2, 3, 4, 5, 6, 7]) list([8, 9])]\n"
     ]
    }
   ],
   "source": [
    "#Creating a numpy array using more than one List\n",
    "import numpy as np\n",
    "l=[[1,2,3,4,5,6,7],[8,9]]\n",
    "a=np.asarray(l)\n",
    "print(type(a))\n",
    "print(a)"
   ]
  },
  {
   "cell_type": "code",
   "execution_count": 3,
   "metadata": {},
   "outputs": [
    {
     "name": "stdout",
     "output_type": "stream",
     "text": [
      "<class 'bytes'>\n",
      "[b'h' b'e' b'l' b'l' b'o' b' ' b'w' b'o' b'r' b'l' b'd']\n",
      "<class 'numpy.ndarray'>\n"
     ]
    }
   ],
   "source": [
    "#2.numpy.frombuffer\n",
    "l=b'hello world'\n",
    "print(type(l))\n",
    "a=np.frombuffer(l, dtype=\"S1\") # \"S1\" --which type of datatype ????\n",
    "print(a)\n",
    "print(type(a))"
   ]
  },
  {
   "cell_type": "code",
   "execution_count": 4,
   "metadata": {},
   "outputs": [
    {
     "name": "stdout",
     "output_type": "stream",
     "text": [
      "[0. 2. 4. 6.]\n",
      "<class 'numpy.ndarray'>\n"
     ]
    }
   ],
   "source": [
    "#3.numpy.fromiter\n",
    "list=[0,2,4,6]\n",
    "it=iter(list) #it is the iterable object\n",
    "x=np.fromiter(it, dtype=float) #Doubt #V. V. V. IMPortant\n",
    "print(x)\n",
    "print(type(x))"
   ]
  },
  {
   "cell_type": "raw",
   "metadata": {},
   "source": [
    " \n",
    "\n",
    "# Numpy Arrays within the numerical range"
   ]
  },
  {
   "cell_type": "code",
   "execution_count": 7,
   "metadata": {},
   "outputs": [
    {
     "name": "stdout",
     "output_type": "stream",
     "text": [
      "[0. 2. 4. 6. 8.]\n"
     ]
    }
   ],
   "source": [
    "#1.numpy.arange #NOT .arrange\n",
    "import numpy as np\n",
    "arr=np.arange(0,10,2,float)# 2 is step or spacing of elements in their range/count\n",
    "#arr=np.arrange(0,10,2,float) #np.arrange will give ERRor\n",
    "print(arr)"
   ]
  },
  {
   "cell_type": "code",
   "execution_count": 8,
   "metadata": {},
   "outputs": [
    {
     "name": "stdout",
     "output_type": "stream",
     "text": [
      "The array over the given range is [10 15 20 25 30 35 40 45 50 55 60 65 70 75 80 85 90 95]\n"
     ]
    }
   ],
   "source": [
    "arr=np.arange(10,100,5,int)\n",
    "print(\"The array over the given range is\",arr)"
   ]
  },
  {
   "cell_type": "code",
   "execution_count": 9,
   "metadata": {},
   "outputs": [
    {
     "name": "stdout",
     "output_type": "stream",
     "text": [
      "The array over the given range is [10.  12.5 15.  17.5 20. ]\n"
     ]
    }
   ],
   "source": [
    "#2.numpy.linspace\n",
    "arr=np.linspace(10,20,5)\n",
    "print(\"The array over the given range is\",arr)"
   ]
  },
  {
   "cell_type": "code",
   "execution_count": 10,
   "metadata": {},
   "outputs": [
    {
     "name": "stdout",
     "output_type": "stream",
     "text": [
      "The array over the given range is [10. 12. 14. 16. 18.]\n"
     ]
    }
   ],
   "source": [
    "arr=np.linspace(10,20,5,endpoint=False) #endpoint is 20 here which is bydefault True in above code\n",
    "print(\"The array over the given range is\",arr)"
   ]
  },
  {
   "cell_type": "code",
   "execution_count": 11,
   "metadata": {},
   "outputs": [
    {
     "name": "stdout",
     "output_type": "stream",
     "text": [
      "The array over the given range is [1.00000000e+10 3.16227766e+12 1.00000000e+15 3.16227766e+17\n",
      " 1.00000000e+20]\n"
     ]
    }
   ],
   "source": [
    "#3.numpy.logspace\n",
    "arr=np.logspace(10,20,num=5,endpoint=True)\n",
    "print(\"The array over the given range is\",arr)"
   ]
  },
  {
   "cell_type": "code",
   "execution_count": 12,
   "metadata": {},
   "outputs": [
    {
     "name": "stdout",
     "output_type": "stream",
     "text": [
      "The array over the given range is [1.02400000e+03 5.79261875e+03 3.27680000e+04 1.85363800e+05\n",
      " 1.04857600e+06]\n"
     ]
    }
   ],
   "source": [
    "arr=np.logspace(10,20,num=5,base=2,endpoint=True) #base represents base of log ---Doubt\n",
    "print(\"The array over the given range is\",arr)"
   ]
  },
  {
   "cell_type": "code",
   "execution_count": null,
   "metadata": {},
   "outputs": [],
   "source": []
  }
 ],
 "metadata": {
  "kernelspec": {
   "display_name": "Python 3",
   "language": "python",
   "name": "python3"
  },
  "language_info": {
   "codemirror_mode": {
    "name": "ipython",
    "version": 3
   },
   "file_extension": ".py",
   "mimetype": "text/x-python",
   "name": "python",
   "nbconvert_exporter": "python",
   "pygments_lexer": "ipython3",
   "version": "3.7.6"
  }
 },
 "nbformat": 4,
 "nbformat_minor": 4
}
