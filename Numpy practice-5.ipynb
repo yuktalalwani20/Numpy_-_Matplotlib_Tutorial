{
 "cells": [
  {
   "cell_type": "markdown",
   "metadata": {},
   "source": [
    "### NumPy Matrix Library "
   ]
  },
  {
   "cell_type": "code",
   "execution_count": 1,
   "metadata": {},
   "outputs": [
    {
     "name": "stdout",
     "output_type": "stream",
     "text": [
      "[[1.072e-321 0.000e+000 0.000e+000]\n",
      " [0.000e+000 0.000e+000 4.545e-321]\n",
      " [0.000e+000 0.000e+000 0.000e+000]]\n"
     ]
    }
   ],
   "source": [
    "#numpy.matlib.empty()\n",
    "import numpy as np\n",
    "import numpy.matlib\n",
    "print(numpy.matlib.empty((3,3)))# How can random numbers get generated--??"
   ]
  },
  {
   "cell_type": "code",
   "execution_count": 2,
   "metadata": {},
   "outputs": [
    {
     "name": "stdout",
     "output_type": "stream",
     "text": [
      "[[0. 0. 0.]\n",
      " [0. 0. 0.]\n",
      " [0. 0. 0.]\n",
      " [0. 0. 0.]]\n"
     ]
    }
   ],
   "source": [
    "#numpy.matlib.zeros()\n",
    "import numpy as np\n",
    "import numpy.matlib\n",
    "print(numpy.matlib.zeros((4,3)))"
   ]
  },
  {
   "cell_type": "code",
   "execution_count": 3,
   "metadata": {},
   "outputs": [
    {
     "name": "stdout",
     "output_type": "stream",
     "text": [
      "[[0. 0. 0.]\n",
      " [0. 0. 0.]\n",
      " [0. 0. 0.]\n",
      " [0. 0. 0.]]\n"
     ]
    }
   ],
   "source": [
    "#numpy.matlib.zeros()\n",
    "import numpy as np\n",
    "import numpy.matlib\n",
    "print(numpy.matlib.zeros((4,3)))"
   ]
  },
  {
   "cell_type": "code",
   "execution_count": 4,
   "metadata": {},
   "outputs": [
    {
     "name": "stdout",
     "output_type": "stream",
     "text": [
      "[[1. 1.]\n",
      " [1. 1.]]\n"
     ]
    }
   ],
   "source": [
    "#numpy.matlib.ones()\n",
    "import numpy as np\n",
    "import numpy.matlib\n",
    "print(numpy.matlib.ones((2,2)))"
   ]
  },
  {
   "cell_type": "code",
   "execution_count": 5,
   "metadata": {},
   "outputs": [
    {
     "name": "stdout",
     "output_type": "stream",
     "text": [
      "[[1 0 0]\n",
      " [0 1 0]\n",
      " [0 0 1]]\n"
     ]
    }
   ],
   "source": [
    "#numpy.matlib.eye()\n",
    "import numpy as np\n",
    "import numpy.matlib\n",
    "print(numpy.matlib.eye(n=3, M=3, k=0, dtype=int)) #k is index of diagonal(indexing of diagonal)"
   ]
  },
  {
   "cell_type": "code",
   "execution_count": 6,
   "metadata": {},
   "outputs": [
    {
     "name": "stdout",
     "output_type": "stream",
     "text": [
      "[[1 0 0 0 0]\n",
      " [0 1 0 0 0]\n",
      " [0 0 1 0 0]\n",
      " [0 0 0 1 0]\n",
      " [0 0 0 0 1]]\n"
     ]
    }
   ],
   "source": [
    "#numpy.matlib.identity()\n",
    "import numpy as np\n",
    "import numpy.matlib\n",
    "print(numpy.matlib.identity(5, dtype=int))"
   ]
  },
  {
   "cell_type": "code",
   "execution_count": 7,
   "metadata": {},
   "outputs": [
    {
     "name": "stdout",
     "output_type": "stream",
     "text": [
      "[[0.21442229 0.29224657 0.37195722]\n",
      " [0.67034349 0.5500118  0.76834012]\n",
      " [0.00846828 0.87294542 0.63687014]]\n"
     ]
    }
   ],
   "source": [
    "#numpy.matlib.rand()\n",
    "import numpy as np\n",
    "import numpy.matlib\n",
    "print(numpy.matlib.rand(3,3))"
   ]
  },
  {
   "cell_type": "markdown",
   "metadata": {},
   "source": [
    "### NumPy Linear Algebra"
   ]
  },
  {
   "cell_type": "code",
   "execution_count": 3,
   "metadata": {},
   "outputs": [
    {
     "data": {
      "text/plain": [
       "array([[3400, 6200],\n",
       "       [ 374,  712]])"
      ]
     },
     "execution_count": 3,
     "metadata": {},
     "output_type": "execute_result"
    }
   ],
   "source": [
    "#numpy.dot()\n",
    "import numpy as np\n",
    "a=np.array([[100,200],[23,12]])\n",
    "b=np.array([[10,20],[12,21]])\n",
    "dot=np.dot(a,b)\n",
    "dot"
   ]
  },
  {
   "cell_type": "code",
   "execution_count": 4,
   "metadata": {},
   "outputs": [
    {
     "data": {
      "text/plain": [
       "5528"
      ]
     },
     "execution_count": 4,
     "metadata": {},
     "output_type": "execute_result"
    }
   ],
   "source": [
    "#numpy.vdot()\n",
    "a=np.array([[100,200],[23,12]])\n",
    "b=np.array([[10,20],[12,21]])\n",
    "vdot=np.vdot(a,b)\n",
    "vdot"
   ]
  },
  {
   "cell_type": "code",
   "execution_count": 6,
   "metadata": {},
   "outputs": [
    {
     "data": {
      "text/plain": [
       "130"
      ]
     },
     "execution_count": 6,
     "metadata": {},
     "output_type": "execute_result"
    }
   ],
   "source": [
    "#numpy.inner()\n",
    "a=np.array([1,2,3,4,5,6])\n",
    "b=np.array([23,23,12,2,1,2])\n",
    "inner=np.inner(a,b)\n",
    "inner"
   ]
  },
  {
   "cell_type": "code",
   "execution_count": 7,
   "metadata": {},
   "outputs": [
    {
     "data": {
      "text/plain": [
       "array([[ 48,  49,  43],\n",
       "       [144, 145, 112],\n",
       "       [240, 241, 181]])"
      ]
     },
     "execution_count": 7,
     "metadata": {},
     "output_type": "execute_result"
    }
   ],
   "source": [
    "#numpy.matmul()\n",
    "a=np.array([[1,2,3],[4,5,6],[7,8,9]])\n",
    "b=np.array([[23,23,12],[2,1,2],[7,8,9]])\n",
    "mul=np.matmul(a,b)\n",
    "mul"
   ]
  },
  {
   "cell_type": "code",
   "execution_count": 8,
   "metadata": {},
   "outputs": [
    {
     "name": "stdout",
     "output_type": "stream",
     "text": [
      "-2.0000000000000004\n"
     ]
    }
   ],
   "source": [
    "#numpy determinant\n",
    "#numpy.linalg.det()\n",
    "a=np.array([[1,2],[3,4]])\n",
    "print(np.linalg.det(a))"
   ]
  },
  {
   "cell_type": "code",
   "execution_count": 10,
   "metadata": {},
   "outputs": [
    {
     "name": "stdout",
     "output_type": "stream",
     "text": [
      "[[1. 0.]\n",
      " [0. 1.]]\n"
     ]
    }
   ],
   "source": [
    "#numpy.linalg.solve()\n",
    "a=np.array([[1,2],[3,4]])\n",
    "b=np.array([[1,2],[3,4]])\n",
    "print(np.linalg.solve(a,b))"
   ]
  },
  {
   "cell_type": "code",
   "execution_count": 11,
   "metadata": {},
   "outputs": [
    {
     "name": "stdout",
     "output_type": "stream",
     "text": [
      "Original array:\n",
      " [[1 2]\n",
      " [3 4]]\n",
      "Inverse:\n",
      " [[-2.   1. ]\n",
      " [ 1.5 -0.5]]\n"
     ]
    }
   ],
   "source": [
    "#numpy.linalg.inv()\n",
    "a=np.array([[1,2],[3,4]])\n",
    "print(\"Original array:\\n\",a)\n",
    "b=np.linalg.inv(a)\n",
    "print(\"Inverse:\\n\",b)"
   ]
  },
  {
   "cell_type": "markdown",
   "metadata": {},
   "source": [
    "### NumPy Matrix Multiplication"
   ]
  },
  {
   "cell_type": "code",
   "execution_count": 15,
   "metadata": {},
   "outputs": [
    {
     "data": {
      "text/plain": [
       "array([[[ 9, 16, 21],\n",
       "        [24, 25, 24],\n",
       "        [21, 16,  9]]])"
      ]
     },
     "execution_count": 15,
     "metadata": {},
     "output_type": "execute_result"
    }
   ],
   "source": [
    "#Ex.1: Element-wise matrix multiplication\n",
    "import numpy as np\n",
    "array1=np.array([[1,2,3],[4,5,6],[7,8,9]],ndmin=3)\n",
    "array2=np.array([[9,8,7],[6,5,4],[3,2,1]],ndmin=3)\n",
    "result=np.multiply(array1,array2)\n",
    "result"
   ]
  },
  {
   "cell_type": "code",
   "execution_count": 16,
   "metadata": {},
   "outputs": [
    {
     "data": {
      "text/plain": [
       "array([[[ 30,  24,  18],\n",
       "        [ 84,  69,  54],\n",
       "        [138, 114,  90]]])"
      ]
     },
     "execution_count": 16,
     "metadata": {},
     "output_type": "execute_result"
    }
   ],
   "source": [
    "#Ex.2: Matrix product\n",
    "array1=np.array([[1,2,3],[4,5,6],[7,8,9]],ndmin=3)\n",
    "array2=np.array([[9,8,7],[6,5,4],[3,2,1]],ndmin=3)\n",
    "result=np.matmul(array1,array2)\n",
    "result"
   ]
  },
  {
   "cell_type": "code",
   "execution_count": 17,
   "metadata": {},
   "outputs": [
    {
     "data": {
      "text/plain": [
       "array([[[[ 30,  24,  18]],\n",
       "\n",
       "        [[ 84,  69,  54]],\n",
       "\n",
       "        [[138, 114,  90]]]])"
      ]
     },
     "execution_count": 17,
     "metadata": {},
     "output_type": "execute_result"
    }
   ],
   "source": [
    "#Ex.3: Dot Product\n",
    "array1=np.array([[1,2,3],[4,5,6],[7,8,9]],ndmin=3)\n",
    "array2=np.array([[9,8,7],[6,5,4],[3,2,1]],ndmin=3)\n",
    "result=np.dot(array1,array2)\n",
    "result"
   ]
  },
  {
   "cell_type": "code",
   "execution_count": null,
   "metadata": {},
   "outputs": [],
   "source": []
  }
 ],
 "metadata": {
  "kernelspec": {
   "display_name": "Python 3",
   "language": "python",
   "name": "python3"
  },
  "language_info": {
   "codemirror_mode": {
    "name": "ipython",
    "version": 3
   },
   "file_extension": ".py",
   "mimetype": "text/x-python",
   "name": "python",
   "nbconvert_exporter": "python",
   "pygments_lexer": "ipython3",
   "version": "3.7.6"
  }
 },
 "nbformat": 4,
 "nbformat_minor": 4
}
