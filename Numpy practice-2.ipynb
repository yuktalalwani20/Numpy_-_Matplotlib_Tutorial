{
 "cells": [
  {
   "cell_type": "raw",
   "metadata": {},
   "source": [
    "# Numpy Broadcasting"
   ]
  },
  {
   "cell_type": "code",
   "execution_count": 1,
   "metadata": {},
   "outputs": [
    {
     "ename": "ValueError",
     "evalue": "operands could not be broadcast together with shapes (7,) (8,) ",
     "output_type": "error",
     "traceback": [
      "\u001b[1;31m---------------------------------------------------------------------------\u001b[0m",
      "\u001b[1;31mValueError\u001b[0m                                Traceback (most recent call last)",
      "\u001b[1;32m<ipython-input-1-4d82054aaeeb>\u001b[0m in \u001b[0;36m<module>\u001b[1;34m\u001b[0m\n\u001b[0;32m      2\u001b[0m \u001b[0ma\u001b[0m\u001b[1;33m=\u001b[0m\u001b[0mnp\u001b[0m\u001b[1;33m.\u001b[0m\u001b[0marray\u001b[0m\u001b[1;33m(\u001b[0m\u001b[1;33m[\u001b[0m\u001b[1;36m1\u001b[0m\u001b[1;33m,\u001b[0m\u001b[1;36m2\u001b[0m\u001b[1;33m,\u001b[0m\u001b[1;36m3\u001b[0m\u001b[1;33m,\u001b[0m\u001b[1;36m4\u001b[0m\u001b[1;33m,\u001b[0m\u001b[1;36m5\u001b[0m\u001b[1;33m,\u001b[0m\u001b[1;36m6\u001b[0m\u001b[1;33m,\u001b[0m\u001b[1;36m7\u001b[0m\u001b[1;33m]\u001b[0m\u001b[1;33m)\u001b[0m\u001b[1;33m\u001b[0m\u001b[1;33m\u001b[0m\u001b[0m\n\u001b[0;32m      3\u001b[0m \u001b[0mb\u001b[0m\u001b[1;33m=\u001b[0m\u001b[0mnp\u001b[0m\u001b[1;33m.\u001b[0m\u001b[0marray\u001b[0m\u001b[1;33m(\u001b[0m\u001b[1;33m[\u001b[0m\u001b[1;36m2\u001b[0m\u001b[1;33m,\u001b[0m\u001b[1;36m4\u001b[0m\u001b[1;33m,\u001b[0m\u001b[1;36m6\u001b[0m\u001b[1;33m,\u001b[0m\u001b[1;36m8\u001b[0m\u001b[1;33m,\u001b[0m\u001b[1;36m10\u001b[0m\u001b[1;33m,\u001b[0m\u001b[1;36m12\u001b[0m\u001b[1;33m,\u001b[0m\u001b[1;36m14\u001b[0m\u001b[1;33m,\u001b[0m\u001b[1;36m19\u001b[0m\u001b[1;33m]\u001b[0m\u001b[1;33m)\u001b[0m\u001b[1;33m\u001b[0m\u001b[1;33m\u001b[0m\u001b[0m\n\u001b[1;32m----> 4\u001b[1;33m \u001b[0mc\u001b[0m\u001b[1;33m=\u001b[0m\u001b[0ma\u001b[0m\u001b[1;33m*\u001b[0m\u001b[0mb\u001b[0m\u001b[1;33m\u001b[0m\u001b[1;33m\u001b[0m\u001b[0m\n\u001b[0m\u001b[0;32m      5\u001b[0m \u001b[0mprint\u001b[0m\u001b[1;33m(\u001b[0m\u001b[0mc\u001b[0m\u001b[1;33m)\u001b[0m\u001b[1;33m\u001b[0m\u001b[1;33m\u001b[0m\u001b[0m\n",
      "\u001b[1;31mValueError\u001b[0m: operands could not be broadcast together with shapes (7,) (8,) "
     ]
    }
   ],
   "source": [
    "import numpy as np\n",
    "a=np.array([1,2,3,4,5,6,7])\n",
    "b=np.array([2,4,6,8,10,12,14,19])\n",
    "c=a*b\n",
    "print(c)"
   ]
  },
  {
   "cell_type": "raw",
   "metadata": {},
   "source": [
    "here 7 and 8 are no. of elements in array a and b. Since their sizes don't match they cannot get multiplied or broadcast"
   ]
  },
  {
   "cell_type": "code",
   "execution_count": 3,
   "metadata": {},
   "outputs": [
    {
     "name": "stdout",
     "output_type": "stream",
     "text": [
      "\n",
      "printing array a..\n",
      "[[ 1  2  3  4]\n",
      " [ 2  4  5  6]\n",
      " [10 20 39  3]]\n",
      "\n",
      "printing array b..\n",
      "[2 4 6 8]\n",
      "\n",
      " Adding arrays a and b ..\n",
      "[[ 3  6  9 12]\n",
      " [ 4  8 11 14]\n",
      " [12 24 45 11]]\n"
     ]
    }
   ],
   "source": [
    "a=np.array([[1,2,3,4],[2,4,5,6],[10,20,39,3]])\n",
    "b=np.array([2,4,6,8])\n",
    "print(\"\\nprinting array a..\")\n",
    "print(a)\n",
    "print(\"\\nprinting array b..\")\n",
    "print(b)\n",
    "print(\"\\n Adding arrays a and b ..\")\n",
    "c=a+b\n",
    "print(c)"
   ]
  },
  {
   "cell_type": "raw",
   "metadata": {},
   "source": [
    "here a is 3x4 and b is 1x4 therefore ....#Incomplete"
   ]
  },
  {
   "cell_type": "raw",
   "metadata": {},
   "source": [
    "\n",
    "\n",
    "# Numpy Array Iteration"
   ]
  },
  {
   "cell_type": "code",
   "execution_count": 5,
   "metadata": {},
   "outputs": [
    {
     "name": "stdout",
     "output_type": "stream",
     "text": [
      "Print array:\n",
      "[[ 1  2  3  4]\n",
      " [ 2  4  5  6]\n",
      " [10 20 39  3]]\n",
      "Iterating over the array:\n",
      "1 2 3 4 2 4 5 6 10 20 39 3 "
     ]
    }
   ],
   "source": [
    "import numpy as np\n",
    "a=np.array([[1,2,3,4],[2,4,5,6],[10,20,39,3]])\n",
    "print(\"Print array:\")\n",
    "print(a)\n",
    "print(\"Iterating over the array:\")\n",
    "for x in np.nditer(a):\n",
    "    print(x,end=' ')"
   ]
  },
  {
   "cell_type": "code",
   "execution_count": 7,
   "metadata": {},
   "outputs": [
    {
     "ename": "SyntaxError",
     "evalue": "invalid syntax (<ipython-input-7-e723a47fe270>, line 12)",
     "output_type": "error",
     "traceback": [
      "\u001b[1;36m  File \u001b[1;32m\"<ipython-input-7-e723a47fe270>\"\u001b[1;36m, line \u001b[1;32m12\u001b[0m\n\u001b[1;33m    for x in np.nditer(at):\u001b[0m\n\u001b[1;37m                          ^\u001b[0m\n\u001b[1;31mSyntaxError\u001b[0m\u001b[1;31m:\u001b[0m invalid syntax\n"
     ]
    }
   ],
   "source": [
    "#transpose of a matrix\n",
    "a=np.array([[1,2,3,4],[2,4,5,6],[10,20,39,3]])\n",
    "print(\"Printing array:\")\n",
    "print(a)\n",
    "print(\"Printing the transpose of the array:\")\n",
    "at=a.T\n",
    "print(at)\n",
    "\n",
    "#this will be same as previous\n",
    "for x in np.nditer(at):\n",
    "    print(print(\"Iterating over the array:)\")\n",
    "for x in np.nditer(aa):\n",
    "    print(x,end=' ')\n",
    "          \n",
    "#Doubt...."
   ]
  },
  {
   "cell_type": "code",
   "execution_count": null,
   "metadata": {},
   "outputs": [],
   "source": [
    "#Incomplete Numpy Array iteration"
   ]
  },
  {
   "cell_type": "raw",
   "metadata": {},
   "source": [
    "\n",
    "\n",
    "# Numpy Bitwise Operators"
   ]
  },
  {
   "cell_type": "code",
   "execution_count": 8,
   "metadata": {},
   "outputs": [
    {
     "name": "stdout",
     "output_type": "stream",
     "text": [
      "Binary representation of a: 0b1010\n",
      "Binary representation of a: 0b1100\n",
      "Bitwise-and of a and b: 8\n"
     ]
    }
   ],
   "source": [
    "#1.bitwise_and Operation and Operator\n",
    "import numpy as np\n",
    "a=10\n",
    "b=12\n",
    "\n",
    "print(\"Binary representation of a:\",bin(a))\n",
    "print(\"Binary representation of a:\",bin(b))\n",
    "print(\"Bitwise-and of a and b:\",np.bitwise_and(a,b))"
   ]
  },
  {
   "cell_type": "code",
   "execution_count": 9,
   "metadata": {},
   "outputs": [
    {
     "name": "stdout",
     "output_type": "stream",
     "text": [
      "Binary representation of a: 0b110010\n",
      "Binary representation of a: 0b1011010\n",
      "Bitwise-and of a and b: 122\n"
     ]
    }
   ],
   "source": [
    "#2.bitwise_or Operator \n",
    "a=50\n",
    "b=90\n",
    "print(\"Binary representation of a:\",bin(a))\n",
    "print(\"Binary representation of a:\",bin(b))\n",
    "print(\"Bitwise-and of a and b:\",np.bitwise_or(a,b))"
   ]
  },
  {
   "cell_type": "raw",
   "metadata": {},
   "source": [
    "# 1 extra 0 is considered in front side while operation of or of a and b"
   ]
  },
  {
   "cell_type": "code",
   "execution_count": 10,
   "metadata": {},
   "outputs": [
    {
     "name": "stdout",
     "output_type": "stream",
     "text": [
      "Binary representation: 00010100\n",
      "[235]\n",
      "Binary representation: 11101011\n"
     ]
    }
   ],
   "source": [
    "#3.Invert Operation\n",
    "arr=np.array([20], dtype=np.uint8)\n",
    "print(\"Binary representation:\",np.binary_repr(20,8))\n",
    "print(np.invert(arr))\n",
    "print(\"Binary representation:\",np.binary_repr(235,8))"
   ]
  },
  {
   "cell_type": "code",
   "execution_count": 13,
   "metadata": {},
   "outputs": [
    {
     "name": "stdout",
     "output_type": "stream",
     "text": [
      "left shift of 20 by 3 bits is 160\n",
      "Binary representation of 20 in 8 bits: 00010100\n",
      "Binary representation of 160 in 8 bits: 10100000\n"
     ]
    }
   ],
   "source": [
    "#Left Shift Operation with numpy.left_shift()\n",
    "import numpy as np\n",
    "print(\"left shift of 20 by 3 bits is\",np.left_shift(20,3)) #V. V. IMP\n",
    "print(\"Binary representation of 20 in 8 bits:\",np.binary_repr(20,8))\n",
    "print(\"Binary representation of 160 in 8 bits:\",np.binary_repr(160,8))"
   ]
  },
  {
   "cell_type": "code",
   "execution_count": 14,
   "metadata": {},
   "outputs": [
    {
     "name": "stdout",
     "output_type": "stream",
     "text": [
      "left shift of 20 by 3 bits is 2\n",
      "Binary representation of 20 in 8 bits: 00010100\n",
      "Binary representation of 160 in 8 bits: 10100000\n"
     ]
    }
   ],
   "source": [
    "#Right Shift Operation with numpy.right_shift()\n",
    "import numpy as np\n",
    "print(\"left shift of 20 by 3 bits is\",np.right_shift(20,3)) #V. V. IMP\n",
    "print(\"Binary representation of 20 in 8 bits:\",np.binary_repr(20,8))\n",
    "print(\"Binary representation of 160 in 8 bits:\",np.binary_repr(160,8))"
   ]
  },
  {
   "cell_type": "raw",
   "metadata": {},
   "source": [
    "\n",
    "\n",
    "# Numpy String Functions"
   ]
  },
  {
   "cell_type": "code",
   "execution_count": 17,
   "metadata": {},
   "outputs": [
    {
     "name": "stdout",
     "output_type": "stream",
     "text": [
      "Concatenating two string arrays:\n",
      "['welcome to Javatpoint' 'Hi read Python']\n"
     ]
    }
   ],
   "source": [
    "#1.numpy.char.add()\n",
    "import numpy as np\n",
    "print(\"Concatenating two string arrays:\")\n",
    "print(np.char.add(['welcome','Hi'],[' to Javatpoint',' read Python'])) #In 2nd array keep 1st element be '' to create space while adding the strings"
   ]
  },
  {
   "cell_type": "code",
   "execution_count": 19,
   "metadata": {},
   "outputs": [
    {
     "name": "stdout",
     "output_type": "stream",
     "text": [
      "Printing a string multiple times:\n",
      "hello hello hello \n"
     ]
    }
   ],
   "source": [
    "#2.numpy.char.multiply()\n",
    "import numpy as np\n",
    "print(\"Printing a string multiple times:\")\n",
    "print(np.char.multiply(\"hello \",3))#keep Last element be '' in hello to create space while adding the strings"
   ]
  },
  {
   "cell_type": "code",
   "execution_count": 20,
   "metadata": {},
   "outputs": [
    {
     "name": "stdout",
     "output_type": "stream",
     "text": [
      "Padding the string through left and right with the fill char *\n",
      "*****Javatpoint*****\n"
     ]
    }
   ],
   "source": [
    "#3.numpy.char.center()\n",
    "print(\"Padding the string through left and right with the fill char *\")\n",
    "#np.char.center(string, width, fillchar)\n",
    "print(np.char.center(\"Javatpoint\",20,'*'))"
   ]
  },
  {
   "cell_type": "code",
   "execution_count": 21,
   "metadata": {},
   "outputs": [
    {
     "name": "stdout",
     "output_type": "stream",
     "text": [
      "Capitalizing the string using capitalize()...\n",
      "Welcome to javatpoint\n"
     ]
    }
   ],
   "source": [
    "#4.numpy.char.capitalize()\n",
    "print(\"Capitalizing the string using capitalize()...\")\n",
    "print(np.char.capitalize(\"welcome to javatpoint\"))"
   ]
  },
  {
   "cell_type": "code",
   "execution_count": 22,
   "metadata": {},
   "outputs": [
    {
     "name": "stdout",
     "output_type": "stream",
     "text": [
      "Converting string into title cased version...\n",
      "Welcome To Javatpoint\n"
     ]
    }
   ],
   "source": [
    "#5.numpy.char.title()\n",
    "print(\"Converting string into title cased version...\")\n",
    "print(np.char.title(\"welcome to javatpoint\"))"
   ]
  },
  {
   "cell_type": "code",
   "execution_count": 23,
   "metadata": {},
   "outputs": [
    {
     "name": "stdout",
     "output_type": "stream",
     "text": [
      "Converting all the characters of the string into lowercase...\n",
      "welcome to javatpoint\n"
     ]
    }
   ],
   "source": [
    "#6.numpy.char.lower()\n",
    "print(\"Converting all the characters of the string into lowercase...\")\n",
    "print(np.char.lower(\"WELCOME TO JAVATPOINT\"))"
   ]
  },
  {
   "cell_type": "code",
   "execution_count": 24,
   "metadata": {},
   "outputs": [
    {
     "name": "stdout",
     "output_type": "stream",
     "text": [
      "Converting all the characters of the string into uppercase...\n",
      "WELCOME TO JAVATPOINT\n"
     ]
    }
   ],
   "source": [
    "#7.numpy.char.upper()\n",
    "print(\"Converting all the characters of the string into uppercase...\")\n",
    "print(np.char.upper(\"Welcome To Javatpoint\"))"
   ]
  },
  {
   "cell_type": "code",
   "execution_count": 3,
   "metadata": {},
   "outputs": [
    {
     "name": "stdout",
     "output_type": "stream",
     "text": [
      "Splitting the String word by word..\n",
      "['Welcome', 'To', 'Javatpoint']\n"
     ]
    }
   ],
   "source": [
    "#8.numpy.char.split()\n",
    "import numpy as np\n",
    "print(\"Splitting the String word by word..\")\n",
    "print(np.char.split(\"Welcome To Javatpoint\"),sep=\"\")#OR sep=\" \""
   ]
  },
  {
   "cell_type": "code",
   "execution_count": 4,
   "metadata": {},
   "outputs": [
    {
     "name": "stdout",
     "output_type": "stream",
     "text": [
      "Splitting the String line by line..\n",
      "['Welcome', 'To', 'Javatpoint']\n"
     ]
    }
   ],
   "source": [
    "#9.numpy.char.splitlines()\n",
    "print(\"Splitting the String line by line..\")\n",
    "print(np.char.splitlines(\"Welcome\\nTo\\nJavatpoint\"))#IMPortanTANce of this function----????"
   ]
  },
  {
   "cell_type": "code",
   "execution_count": 5,
   "metadata": {},
   "outputs": [
    {
     "name": "stdout",
     "output_type": "stream",
     "text": [
      "Original String:\n",
      "    welcome to javatpoint   \n",
      "Removing the leading and trailing whitespaces from the string\n",
      "welcome to javatpoint\n"
     ]
    }
   ],
   "source": [
    "#10.numpy.char.strip()\n",
    "str=\"   welcome to javatpoint   \"\n",
    "print(\"Original String:\\n\",str)\n",
    "print(\"Removing the leading and trailing whitespaces from the string\")\n",
    "print(np.char.strip(str))"
   ]
  },
  {
   "cell_type": "code",
   "execution_count": 6,
   "metadata": {},
   "outputs": [
    {
     "name": "stdout",
     "output_type": "stream",
     "text": [
      "H:M\n"
     ]
    }
   ],
   "source": [
    "#11.numpy.char.join()\n",
    "print(np.char.join(':','HM')) #More Examples--??"
   ]
  },
  {
   "cell_type": "code",
   "execution_count": 8,
   "metadata": {},
   "outputs": [
    {
     "name": "stdout",
     "output_type": "stream",
     "text": [
      "Original String: Welcome to Javapoint\n",
      "Modified String: www. Javapoint\n"
     ]
    }
   ],
   "source": [
    "#12.numpy.char.replace()\n",
    "str=\"Welcome to Javapoint\"\n",
    "print(\"Original String:\",str)\n",
    "print(\"Modified String:\",end=\" \") #here space is given by 'end' at last of \"Modified String\"\n",
    "print(np.char.replace(str, \"Welcome to\",\"www.\")) #How replace operation has taken place--??"
   ]
  },
  {
   "cell_type": "code",
   "execution_count": 9,
   "metadata": {},
   "outputs": [
    {
     "name": "stdout",
     "output_type": "stream",
     "text": [
      "b'\\xa6\\x85\\x93\\x83\\x96\\x94\\x85@\\xa3\\x96@\\x91\\x81\\xa5\\x81\\xa3\\x97\\x96\\x89\\x95\\xa3'\n",
      "welcome to javatpoint\n"
     ]
    }
   ],
   "source": [
    "#13.numpy.char.encode() and decode()\n",
    "enstr=np.char.encode(\"welcome to javatpoint\",'cp500')\n",
    "dstr=np.char.decode(enstr,'cp500')\n",
    "print(enstr)\n",
    "print(dstr)"
   ]
  },
  {
   "cell_type": "code",
   "execution_count": null,
   "metadata": {},
   "outputs": [],
   "source": []
  }
 ],
 "metadata": {
  "kernelspec": {
   "display_name": "Python 3",
   "language": "python",
   "name": "python3"
  },
  "language_info": {
   "codemirror_mode": {
    "name": "ipython",
    "version": 3
   },
   "file_extension": ".py",
   "mimetype": "text/x-python",
   "name": "python",
   "nbconvert_exporter": "python",
   "pygments_lexer": "ipython3",
   "version": "3.7.6"
  }
 },
 "nbformat": 4,
 "nbformat_minor": 4
}
