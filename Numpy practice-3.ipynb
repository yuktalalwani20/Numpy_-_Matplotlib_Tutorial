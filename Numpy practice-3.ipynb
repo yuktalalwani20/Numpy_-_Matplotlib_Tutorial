{
 "cells": [
  {
   "cell_type": "raw",
   "metadata": {},
   "source": [
    "# NumPy Mathematical functions"
   ]
  },
  {
   "cell_type": "code",
   "execution_count": 6,
   "metadata": {},
   "outputs": [
    {
     "name": "stdout",
     "output_type": "stream",
     "text": [
      "Input array : \n",
      " [0, 0.3, -1]\n",
      "\n",
      "Inverse cos value : \n",
      " [1.57079633 1.26610367 3.14159265]\n"
     ]
    }
   ],
   "source": [
    "#A. Trigonometric functions\n",
    "\n",
    "#1. numpy.arccos()\n",
    "import numpy as np\n",
    "arr=[0,0.3,-1]\n",
    "print(\"Input array : \\n\",arr)\n",
    "arccos_val=np.arccos(arr)\n",
    "print(\"\\nInverse cos value : \\n\",arccos_val)"
   ]
  },
  {
   "cell_type": "code",
   "execution_count": 7,
   "metadata": {},
   "outputs": [
    {
     "name": "stdout",
     "output_type": "stream",
     "text": [
      "Input array : \n",
      " [0, 0.3, -1]\n",
      "\n",
      "Inverse Sine values : \n",
      " [ 0.          0.30469265 -1.57079633]\n"
     ]
    }
   ],
   "source": [
    "#2. numpy.arcsin()\n",
    "import numpy as np\n",
    "import math\n",
    "arr=[0,0.3,-1]\n",
    "print(\"Input array : \\n\",arr)\n",
    "arcsin=np.arcsin(arr)\n",
    "print(\"\\nInverse Sine values : \\n\",arcsin)"
   ]
  },
  {
   "cell_type": "code",
   "execution_count": 8,
   "metadata": {},
   "outputs": [
    {
     "name": "stdout",
     "output_type": "stream",
     "text": [
      "Input array : \n",
      " [0, 0.3, -1]\n",
      "\n",
      "Inverse tan values : \n",
      " [ 0.          0.29145679 -0.78539816]\n"
     ]
    }
   ],
   "source": [
    "#3. numpy.arctan()\n",
    "arr=[0,0.3,-1]\n",
    "print(\"Input array : \\n\",arr)\n",
    "arctan_val=np.arctan(arr)\n",
    "print(\"\\nInverse tan values : \\n\",arctan_val)"
   ]
  },
  {
   "cell_type": "code",
   "execution_count": 8,
   "metadata": {},
   "outputs": [
    {
     "name": "stdout",
     "output_type": "stream",
     "text": [
      "Input Array: [0.         0.78539816 4.71238898 0.52359878]\n",
      "sin Array: [ 0.          0.70710678 -1.          0.5       ]\n"
     ]
    }
   ],
   "source": [
    "#4. numpy.sin()\n",
    "import numpy as np\n",
    "import math\n",
    "arr=np.array([0, math.pi/4, 3*math.pi/2, math.pi/6])\n",
    "print(\"Input Array:\",arr)\n",
    "print(\"sin Array:\",end=\" \")\n",
    "sinarr=np.sin(arr)\n",
    "print(sinarr)"
   ]
  },
  {
   "cell_type": "code",
   "execution_count": 7,
   "metadata": {},
   "outputs": [
    {
     "name": "stdout",
     "output_type": "stream",
     "text": [
      "Input Array: [0.         0.78539816 4.71238898 0.52359878]\n",
      "cos Array: [ 1.00000000e+00  7.07106781e-01 -1.83697020e-16  8.66025404e-01]\n"
     ]
    }
   ],
   "source": [
    "#5. numpy.cos()\n",
    "import numpy as np\n",
    "import math\n",
    "arr=np.array([0, math.pi/4, 3*math.pi/2, math.pi/6])\n",
    "print(\"Input Array:\",arr)\n",
    "print(\"cos Array:\",end=\" \")\n",
    "cosarr=np.cos(arr)\n",
    "print(cosarr)"
   ]
  },
  {
   "cell_type": "code",
   "execution_count": 5,
   "metadata": {},
   "outputs": [
    {
     "name": "stdout",
     "output_type": "stream",
     "text": [
      "Input Array: [0.         0.78539816 4.71238898 0.52359878]\n",
      "tan Array: [0.00000000e+00 1.00000000e+00 5.44374645e+15 5.77350269e-01]\n"
     ]
    }
   ],
   "source": [
    "#6. numpy.tan()\n",
    "import numpy as np\n",
    "import math\n",
    "arr=np.array([0, math.pi/4, 3*math.pi/2, math.pi/6])\n",
    "print(\"Input Array:\",arr)\n",
    "print(\"tan Array:\",end=\" \")\n",
    "tanarr=np.tan(arr)\n",
    "print(tanarr)"
   ]
  },
  {
   "cell_type": "code",
   "execution_count": 11,
   "metadata": {},
   "outputs": [
    {
     "name": "stdout",
     "output_type": "stream",
     "text": [
      "Input Array: [0.         0.78539816 4.71238898 0.52359878]\n",
      "sinh Array: [ 0.          0.86867096 55.6543976   0.54785347]\n"
     ]
    }
   ],
   "source": [
    "#7. numpy.sinh()\n",
    "import numpy as np\n",
    "import math\n",
    "arr=np.array([0, math.pi/4, 3*math.pi/2, math.pi/6])\n",
    "print(\"Input Array:\",arr)\n",
    "print(\"sinh Array:\",end=\" \")\n",
    "sinharr=np.sinh(arr)\n",
    "print(sinharr)"
   ]
  },
  {
   "cell_type": "code",
   "execution_count": 9,
   "metadata": {},
   "outputs": [
    {
     "name": "stdout",
     "output_type": "stream",
     "text": [
      "Input Array: [0.         0.78539816 4.71238898 0.52359878]\n",
      "cosh Array: [ 1.          1.32460909 55.66338089  1.14023832]\n"
     ]
    }
   ],
   "source": [
    "#8. numpy.cosh()\n",
    "import math\n",
    "arr=np.array([0, math.pi/4, 3*math.pi/2, math.pi/6])\n",
    "print(\"Input Array:\",arr)\n",
    "print(\"cosh Array:\",end=\" \")\n",
    "cosharr=np.cosh(arr)\n",
    "print(cosharr)"
   ]
  },
  {
   "cell_type": "code",
   "execution_count": 10,
   "metadata": {},
   "outputs": [
    {
     "name": "stdout",
     "output_type": "stream",
     "text": [
      "Input Array: [0.         0.78539816 4.71238898 0.52359878]\n",
      "tanh Array: [0.         0.6557942  0.99983861 0.48047278]\n"
     ]
    }
   ],
   "source": [
    "#9. numpy.tanh()\n",
    "import numpy as np\n",
    "import math\n",
    "arr=np.array([0, math.pi/4, 3*math.pi/2, math.pi/6])\n",
    "print(\"Input Array:\",arr)\n",
    "print(\"tanh Array:\",end=\" \")\n",
    "tanharr=np.tanh(arr)\n",
    "print(tanharr)"
   ]
  },
  {
   "cell_type": "code",
   "execution_count": 13,
   "metadata": {},
   "outputs": [
    {
     "name": "stdout",
     "output_type": "stream",
     "text": [
      "Input Array: [0.         0.78539816 4.71238898 0.52359878]\n",
      "tan Array: [0.         0.72122549 2.25441459 0.50221899]\n"
     ]
    }
   ],
   "source": [
    "#10. numpy.arcsinh()\n",
    "import math\n",
    "arr=np.array([0, math.pi/4, 3*math.pi/2, math.pi/6])\n",
    "print(\"Input Array:\",arr)\n",
    "print(\"arcsinh Array:\",end=\" \")\n",
    "arcsinharr=np.arcsinh(arr)\n",
    "print(arcsinharr)"
   ]
  },
  {
   "cell_type": "code",
   "execution_count": 12,
   "metadata": {},
   "outputs": [
    {
     "name": "stdout",
     "output_type": "stream",
     "text": [
      "Input Array: [0.         0.78539816 4.71238898 0.52359878]\n",
      "arccosh Array: [       nan        nan 2.23188925        nan]\n"
     ]
    },
    {
     "name": "stderr",
     "output_type": "stream",
     "text": [
      "C:\\Users\\user\\anaconda3\\New folder\\lib\\site-packages\\ipykernel_launcher.py:6: RuntimeWarning: invalid value encountered in arccosh\n",
      "  \n"
     ]
    }
   ],
   "source": [
    "#11. numpy.arccosh()\n",
    "import math\n",
    "arr=np.array([0, math.pi/4, 3*math.pi/2, math.pi/6])\n",
    "print(\"Input Array:\",arr)\n",
    "print(\"arccosh Array:\",end=\" \")\n",
    "arccosharr=np.arccosh(arr)\n",
    "print(arccosharr)"
   ]
  },
  {
   "cell_type": "code",
   "execution_count": 15,
   "metadata": {},
   "outputs": [
    {
     "name": "stdout",
     "output_type": "stream",
     "text": [
      "Input Array: [0.         0.78539816 4.71238898 0.52359878]\n",
      "arctanh Array: [0.         1.05930617        nan 0.58128501]\n"
     ]
    },
    {
     "name": "stderr",
     "output_type": "stream",
     "text": [
      "C:\\Users\\user\\anaconda3\\New folder\\lib\\site-packages\\ipykernel_launcher.py:6: RuntimeWarning: invalid value encountered in arctanh\n",
      "  \n"
     ]
    }
   ],
   "source": [
    "#12. numpy.arctanh()\n",
    "import math\n",
    "arr=np.array([0, math.pi/4, 3*math.pi/2, math.pi/6])\n",
    "print(\"Input Array:\",arr)\n",
    "print(\"arctanh Array:\",end=\" \")\n",
    "arctanharr=np.arctanh(arr)\n",
    "print(arctanharr)"
   ]
  },
  {
   "cell_type": "code",
   "execution_count": 1,
   "metadata": {},
   "outputs": [
    {
     "name": "stdout",
     "output_type": "stream",
     "text": [
      "\n",
      "The sin value of the angles[0.00000000e+00 5.00000000e-01 8.66025404e-01 1.00000000e+00\n",
      " 8.66025404e-01 5.00000000e-01 1.22464680e-16]\n",
      "\n",
      "The cosine value of the angles[ 1.00000000e+00  8.66025404e-01  5.00000000e-01  6.12323400e-17\n",
      " -5.00000000e-01 -8.66025404e-01 -1.00000000e+00]\n",
      "\n",
      "The tangent value of the angles[ 0.00000000e+00  5.77350269e-01  1.73205081e+00  1.63312394e+16\n",
      " -1.73205081e+00 -5.77350269e-01 -1.22464680e-16]\n"
     ]
    }
   ],
   "source": [
    "# Examples of Trigonometric functions\n",
    "import numpy as np\n",
    "arr=np.array([0,30,60,90,120,150,180])\n",
    "print(\"\\nThe sin value of the angles\",end=\"\")\n",
    "print(np.sin(arr*np.pi/180))\n",
    "print(\"\\nThe cosine value of the angles\",end=\"\")\n",
    "print(np.cos(arr*np.pi/180))\n",
    "print(\"\\nThe tangent value of the angles\",end=\"\")\n",
    "print(np.tan(arr*np.pi/180))"
   ]
  },
  {
   "cell_type": "code",
   "execution_count": 7,
   "metadata": {},
   "outputs": [
    {
     "name": "stdout",
     "output_type": "stream",
     "text": [
      "printing the sin values of different angles\n",
      "[0.        0.5       0.8660254 1.       ]\n",
      "printing the inverse of the sin\n",
      "[0.         0.52359878 1.04719755 1.57079633]\n",
      "printing the values in degrees\n",
      "[ 0. 30. 60. 90.]\n",
      "\n",
      "\n",
      "printing the cos values of different angles\n",
      "[1.00000000e+00 8.66025404e-01 5.00000000e-01 6.12323400e-17]\n",
      "printing the inverse of the cos\n",
      "[0.         0.52359878 1.04719755 1.57079633]\n",
      "printing the values in degrees\n",
      "[ 0. 30. 60. 90.]\n",
      "\n",
      "\n",
      "printing the tan values of different angles\n",
      "[0.00000000e+00 5.77350269e-01 1.73205081e+00 1.63312394e+16]\n",
      "printing the inverse of the tan\n",
      "[0.         0.52359878 1.04719755 1.57079633]\n",
      "printing the values in degrees\n",
      "[ 0. 30. 60. 90.]\n",
      "\n",
      "\n"
     ]
    }
   ],
   "source": [
    "arr=np.array([0,30,60,90])\n",
    "\n",
    "print(\"printing the sin values of different angles\")\n",
    "sinval=np.sin(arr*np.pi/180)\n",
    "print(sinval)\n",
    "print(\"printing the inverse of the sin\")\n",
    "cosec=np.arcsin(sinval)\n",
    "print(cosec)\n",
    "print(\"printing the values in degrees\")\n",
    "print(np.degrees(cosec))\n",
    "print(\"\\n\")\n",
    "\n",
    "\n",
    "print(\"printing the cos values of different angles\")\n",
    "cosval=np.cos(arr*np.pi/180)\n",
    "print(cosval)\n",
    "print(\"printing the inverse of the cos\")\n",
    "sec=np.arccos(cosval)\n",
    "print(sec)\n",
    "print(\"printing the values in degrees\")\n",
    "print(np.degrees(sec))\n",
    "print(\"\\n\")\n",
    "\n",
    "\n",
    "print(\"printing the tan values of different angles\")\n",
    "tanval=np.tan(arr*np.pi/180)\n",
    "print(tanval)\n",
    "print(\"printing the inverse of the tan\")\n",
    "cot=np.arctan(tanval)\n",
    "print(cot)\n",
    "print(\"printing the values in degrees\")\n",
    "print(np.degrees(cot))\n",
    "print(\"\\n\")"
   ]
  },
  {
   "cell_type": "code",
   "execution_count": 8,
   "metadata": {},
   "outputs": [
    {
     "name": "stdout",
     "output_type": "stream",
     "text": [
      "printing the original array values:[ 12.202   90.2312 123.02    23.202 ]\n",
      "Array values rounded off to 2 decimal position [ 12.2   90.23 123.02  23.2 ]\n",
      "Array values rounded off to -1 decimal position [ 10.  90. 120.  20.]\n"
     ]
    }
   ],
   "source": [
    "#B. Rounding Functions\n",
    "\n",
    "# a)numpy.around()\n",
    "import numpy as np\n",
    "arr=np.array([12.202, 90.23120, 123.020, 23.202])\n",
    "print(\"printing the original array values:\",end=\"\")\n",
    "print(arr)\n",
    "print(\"Array values rounded off to 2 decimal position\",np.around(arr,2))#Doubt\n",
    "print(\"Array values rounded off to -1 decimal position\",np.around(arr,-1))#Doubt"
   ]
  },
  {
   "cell_type": "code",
   "execution_count": 9,
   "metadata": {},
   "outputs": [
    {
     "name": "stdout",
     "output_type": "stream",
     "text": [
      "[ 12.  90. 123.  23.]\n"
     ]
    }
   ],
   "source": [
    "# b)numpy.floor()\n",
    "arr=np.array([12.202, 90.23120, 123.020, 23.202])\n",
    "print(np.floor(arr))"
   ]
  },
  {
   "cell_type": "code",
   "execution_count": 23,
   "metadata": {},
   "outputs": [
    {
     "name": "stdout",
     "output_type": "stream",
     "text": [
      "Input array: [0.23, 0.09, 1.2, 1.24, 9.99]\n",
      "Output array: [0. 0. 1. 1. 9.]\n",
      "Input array: [145.23, 0.12, 12.34, 123]\n",
      "Output array: [145.   0.  12. 123.]\n"
     ]
    }
   ],
   "source": [
    "arr=[0.23,0.09,1.2,1.24,9.99]\n",
    "print(\"Input array:\",arr)\n",
    "r_arr=np.floor(arr) #difference between  np.floor(), np.rint() and np.trunc()---- ????\n",
    "print(\"Output array:\",r_arr)\n",
    "arr2=[145.23,0.12,12.34,123]\n",
    "print(\"Input array:\",arr2)\n",
    "r_arr2=np.floor(arr2) #difference between np.floor(), np.rint() and np.trunc()---- ????\n",
    "print(\"Output array:\",r_arr2)"
   ]
  },
  {
   "cell_type": "code",
   "execution_count": 10,
   "metadata": {},
   "outputs": [
    {
     "name": "stdout",
     "output_type": "stream",
     "text": [
      "[ 13.  91. 124.  24.]\n"
     ]
    }
   ],
   "source": [
    "# c)numpy.ceil()\n",
    "arr=np.array([12.202, 90.23120, 123.020, 23.202])\n",
    "print(np.ceil(arr))"
   ]
  },
  {
   "cell_type": "code",
   "execution_count": 22,
   "metadata": {},
   "outputs": [
    {
     "name": "stdout",
     "output_type": "stream",
     "text": [
      "Input array: [0.23, 0.09, 1.2, 1.24, 9.99]\n",
      "Output array: [ 1.  1.  2.  2. 10.]\n",
      "Input array: [145.23, 0.12, 12.34, 123]\n",
      "Output array: [146.   1.  13. 123.]\n"
     ]
    }
   ],
   "source": [
    "arr=[0.23,0.09,1.2,1.24,9.99]\n",
    "print(\"Input array:\",arr)\n",
    "r_arr=np.ceil(arr) \n",
    "print(\"Output array:\",r_arr)\n",
    "arr2=[145.23,0.12,12.34,123]\n",
    "print(\"Input array:\",arr2)\n",
    "r_arr2=np.ceil(arr2) \n",
    "print(\"Output array:\",r_arr2)"
   ]
  },
  {
   "cell_type": "code",
   "execution_count": 16,
   "metadata": {},
   "outputs": [
    {
     "name": "stdout",
     "output_type": "stream",
     "text": [
      "Input array: [0.23, 0.09, 1.2, 1.24, 9.99]\n",
      "Output array: [0. 0. 1. 1. 9.]\n"
     ]
    }
   ],
   "source": [
    "# d)numpy.fix()\n",
    "arr=[0.23,0.09,1.2,1.24,9.99]\n",
    "print(\"Input array:\",arr)\n",
    "r_arr=np.fix(arr)\n",
    "print(\"Output array:\",r_arr)#here 9 is neare to 0 than 10 therefore 9 is taken in last element "
   ]
  },
  {
   "cell_type": "code",
   "execution_count": 17,
   "metadata": {},
   "outputs": [
    {
     "name": "stdout",
     "output_type": "stream",
     "text": [
      "Input array: [0.23, 0.09, 1.2, 1.24, 9.99]\n",
      "Output array: [ 0.  0.  1.  1. 10.]\n"
     ]
    }
   ],
   "source": [
    "# e)numpy.rint()\n",
    "arr=[0.23,0.09,1.2,1.24,9.99]\n",
    "print(\"Input array:\",arr)\n",
    "r_arr=np.rint(arr)\n",
    "print(\"Output array:\",r_arr)"
   ]
  },
  {
   "cell_type": "code",
   "execution_count": 19,
   "metadata": {},
   "outputs": [
    {
     "name": "stdout",
     "output_type": "stream",
     "text": [
      "Input array: [0.23, 0.09, 1.2, 1.24, 9.99]\n",
      "Output array: [0. 0. 1. 1. 9.]\n",
      "Input array: [145.23, 0.12, 12.34, 123]\n",
      "Output array: [145.   0.  12. 123.]\n"
     ]
    }
   ],
   "source": [
    "# f)numpy.trunc()\n",
    "arr=[0.23,0.09,1.2,1.24,9.99]\n",
    "print(\"Input array:\",arr)\n",
    "r_arr=np.trunc(arr) #difference between np.rint() and np.trunc()---- ????\n",
    "print(\"Output array:\",r_arr)\n",
    "arr2=[145.23,0.12,12.34,123]\n",
    "print(\"Input array:\",arr2)\n",
    "r_arr2=np.trunc(arr2) #difference between np.rint() and np.trunc()---- ????\n",
    "print(\"Output array:\",r_arr2)"
   ]
  },
  {
   "cell_type": "raw",
   "metadata": {},
   "source": [
    "\n",
    "\n",
    "# NumPy Statistical functions"
   ]
  },
  {
   "cell_type": "code",
   "execution_count": 11,
   "metadata": {},
   "outputs": [
    {
     "name": "stdout",
     "output_type": "stream",
     "text": [
      "The original array:\n",
      "\n",
      "[[ 2 10 20]\n",
      " [80 43 31]\n",
      " [22 43 10]]\n",
      "\n",
      "The minimum element among the array: 2\n",
      "\n",
      "The maximum element among the array: 80\n",
      "\n",
      "The minimum element among the rows of array: [ 2 10 10]\n",
      "\n",
      "The maximum element among the rows of array: [80 43 31]\n",
      "\n",
      "The minimum element among the columns of array: [ 2 31 10]\n",
      "\n",
      "The maximum element among the columns of array: [20 80 43]\n"
     ]
    }
   ],
   "source": [
    "#1.Finding the minimum and maximum elements from the array\n",
    "import numpy as np\n",
    "a=np.array([[2,10,20],[80,43,31],[22,43,10]])\n",
    "print(\"The original array:\\n\")\n",
    "print(a)\n",
    "print(\"\\nThe minimum element among the array:\",np.amin(a))\n",
    "print(\"\\nThe maximum element among the array:\",np.amax(a))\n",
    "\n",
    "print(\"\\nThe minimum element among the rows of array:\",np.amin(a,0))\n",
    "print(\"\\nThe maximum element among the rows of array:\",np.amax(a,0))\n",
    "\n",
    "print(\"\\nThe minimum element among the columns of array:\",np.amin(a,1))\n",
    "print(\"\\nThe maximum element among the columns of array:\",np.amax(a,1))"
   ]
  },
  {
   "cell_type": "code",
   "execution_count": 12,
   "metadata": {},
   "outputs": [
    {
     "name": "stdout",
     "output_type": "stream",
     "text": [
      "The original array:\n",
      " [[ 2 10 20]\n",
      " [80 43 31]\n",
      " [22 43 10]]\n",
      "\n",
      "ptp value along axis 1: [18 49 33]\n",
      "ptp value along axis 0: [78 33 21]\n"
     ]
    }
   ],
   "source": [
    "#2.numpy.ptp()\n",
    "a=np.array([[2,10,20],[80,43,31],[22,43,10]])\n",
    "print(\"The original array:\\n\",a)\n",
    "print(\"\\nptp value along axis 1:\",np.ptp(a,1))\n",
    "print(\"ptp value along axis 0:\",np.ptp(a,0))"
   ]
  },
  {
   "cell_type": "code",
   "execution_count": 14,
   "metadata": {},
   "outputs": [
    {
     "name": "stdout",
     "output_type": "stream",
     "text": [
      "Array:\n",
      " [[ 2 10 20]\n",
      " [80 43 31]\n",
      " [22 43 10]]\n",
      "\n",
      "Percentile along axis 0: [ 6.  16.6 12. ]\n",
      "Percentile along axis 1: [ 3.6 33.4 12.4]\n"
     ]
    }
   ],
   "source": [
    "#3.numpy.percentile()\n",
    "a=np.array([[2,10,20],[80,43,31],[22,43,10]])\n",
    "print(\"Array:\\n\",a)\n",
    "print(\"\\nPercentile along axis 0:\",np.percentile(a,10,0))#Doubt\n",
    "print(\"Percentile along axis 1:\",np.percentile(a,10,1))#Doubt"
   ]
  },
  {
   "cell_type": "code",
   "execution_count": 15,
   "metadata": {},
   "outputs": [
    {
     "name": "stdout",
     "output_type": "stream",
     "text": [
      "Array:\n",
      " [[1 2 3]\n",
      " [4 5 6]\n",
      " [7 8 9]]\n",
      "\n",
      "Median of array along axis 0: [4. 5. 6.]\n",
      "\n",
      "Mean of array along axis 0: [4. 5. 6.]\n",
      "\n",
      "Average of array along axis 1: [2. 5. 8.]\n"
     ]
    }
   ],
   "source": [
    "#4.Calculating median, mean, and average of array items\n",
    "a=np.array([[1,2,3],[4,5,6],[7,8,9]])\n",
    "print(\"Array:\\n\",a)\n",
    "print(\"\\nMedian of array along axis 0:\",np.median(a,0))\n",
    "print(\"\\nMean of array along axis 0:\",np.mean(a,0))\n",
    "print(\"\\nAverage of array along axis 1:\",np.average(a,1))"
   ]
  },
  {
   "cell_type": "code",
   "execution_count": 24,
   "metadata": {},
   "outputs": [
    {
     "name": "stdout",
     "output_type": "stream",
     "text": [
      "2.5\n",
      "13.0\n"
     ]
    }
   ],
   "source": [
    "# mean examples\n",
    "a=np.array([[1,2],[3,4]])\n",
    "b=np.mean(a)\n",
    "print(b)\n",
    "x=np.array([[5,6],[7,34]])\n",
    "y=np.mean(x)\n",
    "print(y)"
   ]
  },
  {
   "cell_type": "code",
   "execution_count": 25,
   "metadata": {},
   "outputs": [
    {
     "name": "stdout",
     "output_type": "stream",
     "text": [
      "[2.5 4.5]\n",
      "[3. 4.]\n"
     ]
    }
   ],
   "source": [
    "a=np.array([[2,4],[3,5]])\n",
    "b=np.mean(a,axis=0)\n",
    "c=np.mean(a,axis=1)\n",
    "print(b)\n",
    "print(c)"
   ]
  },
  {
   "cell_type": "code",
   "execution_count": 26,
   "metadata": {},
   "outputs": [
    {
     "name": "stdout",
     "output_type": "stream",
     "text": [
      "27.5\n"
     ]
    }
   ],
   "source": [
    "a=np.zeros((2, 512*512), dtype=np.float32)\n",
    "a[0,:]=23.0\n",
    "a[1,:]=32.0\n",
    "c=np.mean(a)\n",
    "print(c)"
   ]
  },
  {
   "cell_type": "code",
   "execution_count": 27,
   "metadata": {},
   "outputs": [
    {
     "name": "stdout",
     "output_type": "stream",
     "text": [
      "1.0999985\n",
      "1.1000000014901161\n"
     ]
    }
   ],
   "source": [
    "a[0,:]=2.0\n",
    "a[1,:]=0.2\n",
    "c=np.mean(a)\n",
    "print(c)\n",
    "d=np.mean(a, dtype=np.float64)\n",
    "print(d)"
   ]
  },
  {
   "cell_type": "markdown",
   "metadata": {},
   "source": [
    "###### Other Mathematical Functions"
   ]
  },
  {
   "cell_type": "code",
   "execution_count": 2,
   "metadata": {},
   "outputs": [
    {
     "data": {
      "text/plain": [
       "(array([   2,    4,    6, 6561]),\n",
       " array([0.69314718, 1.38629436, 1.79175947, 8.78889831]),\n",
       " array([ 1.        ,  2.        ,  2.5849625 , 12.67970001]),\n",
       " array([0.30103   , 0.60205999, 0.77815125, 3.81697004]))"
      ]
     },
     "execution_count": 2,
     "metadata": {},
     "output_type": "execute_result"
    }
   ],
   "source": [
    "#numpy.log()\n",
    "import numpy as np\n",
    "a=np.array([2,4,6,3**8])\n",
    "b=np.log(a)\n",
    "c=np.log2(a)\n",
    "d=np.log10(a)\n",
    "a,b,c,d"
   ]
  },
  {
   "cell_type": "code",
   "execution_count": 3,
   "metadata": {},
   "outputs": [
    {
     "name": "stderr",
     "output_type": "stream",
     "text": [
      "C:\\Users\\user\\anaconda3\\New folder\\lib\\site-packages\\ipykernel_launcher.py:1: RuntimeWarning: divide by zero encountered in log\n",
      "  \"\"\"Entry point for launching an IPython kernel.\n"
     ]
    },
    {
     "data": {
      "text/plain": [
       "array([0.69314718, 1.        , 3.        ,       -inf])"
      ]
     },
     "execution_count": 3,
     "metadata": {},
     "output_type": "execute_result"
    }
   ],
   "source": [
    "x=np.log([2,np.e,np.e**3,0])\n",
    "x"
   ]
  },
  {
   "cell_type": "code",
   "execution_count": 4,
   "metadata": {},
   "outputs": [
    {
     "name": "stdout",
     "output_type": "stream",
     "text": [
      "Input array : \n",
      " [0, 1.5707963267948966, 0.7853981633974483, 0.5235987755982988]\n",
      "\n",
      " Degree value : \n",
      " [ 0. 90. 45. 30.]\n"
     ]
    }
   ],
   "source": [
    "#numpy.degrees()\n",
    "import numpy as np\n",
    "import math\n",
    "arr=[0, math.pi/2, math.pi/4, math.pi/6]\n",
    "print(\"Input array : \\n\",arr)\n",
    "degval=np.degrees(arr)\n",
    "print(\"\\n Degree value : \\n\",degval)"
   ]
  },
  {
   "cell_type": "code",
   "execution_count": 5,
   "metadata": {},
   "outputs": [
    {
     "name": "stdout",
     "output_type": "stream",
     "text": [
      "Input array : \n",
      " [0, 1.5707963267948966, 0.7853981633974483, 0.5235987755982988]\n",
      "\n",
      " Radian value : \n",
      " [0.         0.02741557 0.01370778 0.00913852]\n"
     ]
    }
   ],
   "source": [
    "#numpy.deg2rad()\n",
    "import numpy as np\n",
    "import math\n",
    "arr=[0, math.pi/2, math.pi/4, math.pi/6]\n",
    "print(\"Input array : \\n\",arr)\n",
    "radval=np.deg2rad(arr)\n",
    "print(\"\\n Radian value : \\n\", radval)"
   ]
  },
  {
   "cell_type": "code",
   "execution_count": 6,
   "metadata": {},
   "outputs": [
    {
     "name": "stdout",
     "output_type": "stream",
     "text": [
      "Input base array: [10, 2, 5, 50]\n",
      "Input perpendicular array: [3, 10, 23, 6]\n",
      "hypotenuse [10.44030651 10.19803903 23.53720459 50.35871325]\n"
     ]
    }
   ],
   "source": [
    "#numpy.hypot()\n",
    "base=[10,2,5,50]\n",
    "per=[3,10,23,6]\n",
    "print(\"Input base array:\",base)\n",
    "print(\"Input perpendicular array:\",per)\n",
    "hyp=np.hypot(base,per)\n",
    "print(\"hypotenuse\",hyp)"
   ]
  },
  {
   "cell_type": "code",
   "execution_count": 7,
   "metadata": {},
   "outputs": [
    {
     "name": "stdout",
     "output_type": "stream",
     "text": [
      "Input base array: [[0.55357699 0.01975655 0.49717425 0.94525417]\n",
      " [0.60813476 0.74253988 0.16637373 0.05117472]\n",
      " [0.79196607 0.79440153 0.86607038 0.17279249]]\n",
      "Input perpendicular array: [[0.95156031 0.20531339 0.20523171 0.88562034]\n",
      " [0.17882415 0.12990385 0.07267998 0.39969684]\n",
      " [0.82257753 0.04538666 0.7929181  0.16792006]]\n",
      "hypotenuse [[1.10086989 0.20626175 0.53786829 1.29531032]\n",
      " [0.63388166 0.75381727 0.18155604 0.40295958]\n",
      " [1.1418599  0.79569701 1.17422187 0.24094479]]\n"
     ]
    }
   ],
   "source": [
    "base=np.random.rand(3,4)\n",
    "per=np.random.rand(3,4)\n",
    "print(\"Input base array:\",base)\n",
    "print(\"Input perpendicular array:\",per)\n",
    "hyp=np.hypot(base,per)\n",
    "print(\"hypotenuse\",hyp)"
   ]
  },
  {
   "cell_type": "code",
   "execution_count": 8,
   "metadata": {},
   "outputs": [
    {
     "name": "stdout",
     "output_type": "stream",
     "text": [
      "Input array : \n",
      " [0, 1.5707963267948966, 0.7853981633974483, 0.5235987755982988]\n",
      "\n",
      " Degree value : \n",
      " [ 0. 90. 45. 30.]\n"
     ]
    }
   ],
   "source": [
    "#numpy.rad2deg()\n",
    "import numpy as np\n",
    "import math\n",
    "arr=[0, math.pi/2, math.pi/4, math.pi/6]\n",
    "print(\"Input array : \\n\",arr)\n",
    "degval=np.rad2deg(arr)\n",
    "print(\"\\n Degree value : \\n\", degval)"
   ]
  },
  {
   "cell_type": "code",
   "execution_count": 9,
   "metadata": {},
   "outputs": [
    {
     "name": "stdout",
     "output_type": "stream",
     "text": [
      "Input array : \n",
      " [0, 30, 60, 90]\n",
      "\n",
      " Radian value : \n",
      " [0.         0.52359878 1.04719755 1.57079633]\n"
     ]
    }
   ],
   "source": [
    "#numpy.radians()\n",
    "arr=[0,30,60,90]\n",
    "print(\"Input array : \\n\",arr)\n",
    "radval=np.radians(arr)\n",
    "print(\"\\n Radian value : \\n\", radval)"
   ]
  },
  {
   "cell_type": "code",
   "execution_count": null,
   "metadata": {},
   "outputs": [],
   "source": []
  }
 ],
 "metadata": {
  "kernelspec": {
   "display_name": "Python 3",
   "language": "python",
   "name": "python3"
  },
  "language_info": {
   "codemirror_mode": {
    "name": "ipython",
    "version": 3
   },
   "file_extension": ".py",
   "mimetype": "text/x-python",
   "name": "python",
   "nbconvert_exporter": "python",
   "pygments_lexer": "ipython3",
   "version": "3.7.6"
  }
 },
 "nbformat": 4,
 "nbformat_minor": 4
}
