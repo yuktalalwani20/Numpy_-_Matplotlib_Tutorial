{
 "cells": [
  {
   "cell_type": "markdown",
   "metadata": {},
   "source": [
    "#### NumPy Other Functions"
   ]
  },
  {
   "cell_type": "code",
   "execution_count": 1,
   "metadata": {},
   "outputs": [
    {
     "name": "stdout",
     "output_type": "stream",
     "text": [
      "[10 20 30 40 50 60 70 80 90 11 21 31 42 52 62 73 83 93]\n"
     ]
    }
   ],
   "source": [
    "# numpy.append()\n",
    "\n",
    "import numpy as np\n",
    "a=np.array([[10,20,30],[40,50,60],[70,80,90]])\n",
    "b=np.array([[11,21,31],[42,52,62],[73,83,93]])\n",
    "c=np.append(a,b)\n",
    "print(c)"
   ]
  },
  {
   "cell_type": "code",
   "execution_count": 2,
   "metadata": {},
   "outputs": [
    {
     "name": "stdout",
     "output_type": "stream",
     "text": [
      "[[10 20 30]\n",
      " [40 50 60]\n",
      " [70 80 90]\n",
      " [11 21 31]\n",
      " [42 52 62]\n",
      " [73 83 93]]\n"
     ]
    }
   ],
   "source": [
    "a=np.array([[10,20,30],[40,50,60],[70,80,90]])\n",
    "b=np.array([[11,21,31],[42,52,62],[73,83,93]])\n",
    "c=np.append(a,b,axis=0)\n",
    "print(c)"
   ]
  },
  {
   "cell_type": "code",
   "execution_count": 2,
   "metadata": {},
   "outputs": [
    {
     "data": {
      "text/plain": [
       "array([[10, 20, 30, 11, 21, 31],\n",
       "       [40, 50, 60, 42, 52, 62],\n",
       "       [70, 80, 90, 73, 83, 93]])"
      ]
     },
     "execution_count": 2,
     "metadata": {},
     "output_type": "execute_result"
    }
   ],
   "source": [
    "import numpy as np\n",
    "a=np.array([[10,20,30],[40,50,60],[70,80,90]])\n",
    "b=np.array([[11,21,31],[42,52,62],[73,83,93]])\n",
    "c=np.append(a,b,axis=1)\n",
    "c"
   ]
  },
  {
   "cell_type": "markdown",
   "metadata": {},
   "source": [
    "###### numpy.random() functions"
   ]
  },
  {
   "cell_type": "code",
   "execution_count": 4,
   "metadata": {},
   "outputs": [
    {
     "name": "stdout",
     "output_type": "stream",
     "text": [
      "[[0.67248244 0.4227327 ]\n",
      " [0.10323554 0.77555382]\n",
      " [0.9204504  0.53868211]\n",
      " [0.92004215 0.28927698]\n",
      " [0.89328039 0.85970516]]\n"
     ]
    }
   ],
   "source": [
    "#1. np.random.rand(d0,d1,....,dn)\n",
    "import numpy as np\n",
    "a=np.random.rand(5,2)\n",
    "print(a)"
   ]
  },
  {
   "cell_type": "code",
   "execution_count": 5,
   "metadata": {},
   "outputs": [
    {
     "name": "stdout",
     "output_type": "stream",
     "text": [
      "[[ 0.93255776 -1.57603819]\n",
      " [ 1.0658079   2.37541383]]\n"
     ]
    }
   ],
   "source": [
    "#2. np.random.randn(d0,d1,...,dn)\n",
    "a=np.random.randn(2,2)\n",
    "print(a)"
   ]
  },
  {
   "cell_type": "code",
   "execution_count": 7,
   "metadata": {},
   "outputs": [
    {
     "name": "stdout",
     "output_type": "stream",
     "text": [
      "[2 1 2 0 1 0 0 0 0 0]\n"
     ]
    }
   ],
   "source": [
    "#3. np.random.randint(low[,high,size,dtype])\n",
    "a=np.random.randint(3,size=10)\n",
    "print(a)"
   ]
  },
  {
   "cell_type": "code",
   "execution_count": 9,
   "metadata": {},
   "outputs": [
    {
     "name": "stdout",
     "output_type": "stream",
     "text": [
      "2\n",
      "<class 'numpy.int32'>\n",
      "[[5 5]\n",
      " [5 5]\n",
      " [1 1]]\n"
     ]
    },
    {
     "name": "stderr",
     "output_type": "stream",
     "text": [
      "C:\\Users\\user\\anaconda3\\New folder\\lib\\site-packages\\ipykernel_launcher.py:2: DeprecationWarning: This function is deprecated. Please call randint(1, 3 + 1) instead\n",
      "  \n",
      "C:\\Users\\user\\anaconda3\\New folder\\lib\\site-packages\\ipykernel_launcher.py:4: DeprecationWarning: This function is deprecated. Please call randint(1, 3 + 1) instead\n",
      "  after removing the cwd from sys.path.\n",
      "C:\\Users\\user\\anaconda3\\New folder\\lib\\site-packages\\ipykernel_launcher.py:6: DeprecationWarning: This function is deprecated. Please call randint(1, 5 + 1) instead\n",
      "  \n"
     ]
    }
   ],
   "source": [
    "#4. np.random.random_integers(low[,high,size])\n",
    "a=np.random.random_integers(3)\n",
    "print(a)\n",
    "b=type(np.random.random_integers(3))\n",
    "print(b)\n",
    "c=np.random.random_integers(5, size=(3,2))\n",
    "print(c)"
   ]
  },
  {
   "cell_type": "code",
   "execution_count": 1,
   "metadata": {},
   "outputs": [
    {
     "name": "stdout",
     "output_type": "stream",
     "text": [
      "0.4342307849859538\n",
      "<class 'float'>\n",
      "[0.4192768  0.12159888 0.47448295 0.62952961 0.5881147 ]\n"
     ]
    }
   ],
   "source": [
    "#5. np.random.random_sample([size])\n",
    "import numpy as np\n",
    "a=np.random.random_sample()\n",
    "print(a)\n",
    "b=type(np.random.random_sample())\n",
    "print(b)\n",
    "c=np.random.random_sample(5,)\n",
    "print(c)"
   ]
  },
  {
   "cell_type": "code",
   "execution_count": 2,
   "metadata": {},
   "outputs": [
    {
     "name": "stdout",
     "output_type": "stream",
     "text": [
      "0.6078567779563742\n",
      "<class 'float'>\n",
      "[0.0255811  0.76298806 0.99453624 0.48168398 0.24704602]\n"
     ]
    }
   ],
   "source": [
    "#6. np.random.random([size])\n",
    "a=np.random.random()\n",
    "print(a)\n",
    "b=type(np.random.random())\n",
    "print(b)\n",
    "c=np.random.random(5,)\n",
    "print(c)"
   ]
  },
  {
   "cell_type": "code",
   "execution_count": 3,
   "metadata": {},
   "outputs": [
    {
     "name": "stdout",
     "output_type": "stream",
     "text": [
      "0.47594363998890854\n",
      "<class 'float'>\n",
      "[0.07298536 0.2912933  0.79942054 0.65692348 0.9882301 ]\n"
     ]
    }
   ],
   "source": [
    "#7. np.random.ranf([size])\n",
    "a=np.random.ranf()\n",
    "print(a)\n",
    "b=type(np.random.ranf())\n",
    "print(b)\n",
    "c=np.random.ranf(5,)\n",
    "print(c)"
   ]
  },
  {
   "cell_type": "code",
   "execution_count": 4,
   "metadata": {},
   "outputs": [
    {
     "name": "stdout",
     "output_type": "stream",
     "text": [
      "0.7957620440766205\n",
      "<class 'float'>\n",
      "[0.43651063 0.92402014 0.23474577 0.24824737 0.79131109]\n"
     ]
    }
   ],
   "source": [
    "#8. np.random.sample([size])\n",
    "a=np.random.sample()\n",
    "print(a)\n",
    "b=type(np.random.sample())\n",
    "print(b)\n",
    "c=np.random.sample(5,)\n",
    "print(c)"
   ]
  },
  {
   "cell_type": "code",
   "execution_count": 6,
   "metadata": {},
   "outputs": [
    {
     "name": "stdout",
     "output_type": "stream",
     "text": [
      "[4 3 2]\n",
      "[0 0 4]\n"
     ]
    }
   ],
   "source": [
    "#9. np.random.choice(a[,size, replace, p])\n",
    "a=np.random.choice(5,3)\n",
    "print(a)\n",
    "b=np.random.choice(5,3, p=[0.2,0.1,0.4,0.2,0.1])\n",
    "print(b)"
   ]
  },
  {
   "cell_type": "code",
   "execution_count": 9,
   "metadata": {},
   "outputs": [
    {
     "name": "stdout",
     "output_type": "stream",
     "text": [
      "b'\\x9c\\x92\\xa6\\xe79~p'\n"
     ]
    }
   ],
   "source": [
    "#10. np.random.bytes(length)\n",
    "a=np.random.bytes(7)\n",
    "print(a)"
   ]
  },
  {
   "cell_type": "raw",
   "metadata": {},
   "source": [
    "# Permutations random functions"
   ]
  },
  {
   "cell_type": "code",
   "execution_count": 11,
   "metadata": {},
   "outputs": [
    {
     "name": "stdout",
     "output_type": "stream",
     "text": [
      "[ 0  1  2  3  4  5  6  7  8  9 10 11]\n",
      "None\n"
     ]
    }
   ],
   "source": [
    "#1. np.random.shuffle()\n",
    "import numpy as np\n",
    "a=np.arange(12)\n",
    "print(a)\n",
    "a=np.random.shuffle(a)\n",
    "print(a)# Doubt in output"
   ]
  },
  {
   "cell_type": "code",
   "execution_count": 12,
   "metadata": {},
   "outputs": [
    {
     "name": "stdout",
     "output_type": "stream",
     "text": [
      "[10  6 11  0  2  1  3  8  4  7  5  9]\n"
     ]
    }
   ],
   "source": [
    "#2. np.random.permutation()\n",
    "a=np.random.permutation(12)\n",
    "print(a)"
   ]
  },
  {
   "cell_type": "code",
   "execution_count": null,
   "metadata": {},
   "outputs": [],
   "source": []
  }
 ],
 "metadata": {
  "kernelspec": {
   "display_name": "Python 3",
   "language": "python",
   "name": "python3"
  },
  "language_info": {
   "codemirror_mode": {
    "name": "ipython",
    "version": 3
   },
   "file_extension": ".py",
   "mimetype": "text/x-python",
   "name": "python",
   "nbconvert_exporter": "python",
   "pygments_lexer": "ipython3",
   "version": "3.7.6"
  }
 },
 "nbformat": 4,
 "nbformat_minor": 4
}
